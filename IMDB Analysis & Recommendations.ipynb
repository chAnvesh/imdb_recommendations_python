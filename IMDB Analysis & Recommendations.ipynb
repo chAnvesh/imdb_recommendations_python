{
 "cells": [
  {
   "cell_type": "code",
   "execution_count": 3,
   "metadata": {
    "execution": {
     "iopub.execute_input": "2021-12-12T13:21:42.772771Z",
     "iopub.status.busy": "2021-12-12T13:21:42.772430Z",
     "iopub.status.idle": "2021-12-12T13:21:42.776679Z",
     "shell.execute_reply": "2021-12-12T13:21:42.775725Z",
     "shell.execute_reply.started": "2021-12-12T13:21:42.772737Z"
    }
   },
   "outputs": [],
   "source": [
    "import pandas as pd\n",
    "import sqlite3"
   ]
  },
  {
   "cell_type": "code",
   "execution_count": 4,
   "metadata": {
    "execution": {
     "iopub.execute_input": "2021-12-12T13:21:42.779682Z",
     "iopub.status.busy": "2021-12-12T13:21:42.779066Z",
     "iopub.status.idle": "2021-12-12T13:21:50.949037Z",
     "shell.execute_reply": "2021-12-12T13:21:50.948123Z",
     "shell.execute_reply.started": "2021-12-12T13:21:42.779637Z"
    }
   },
   "outputs": [],
   "source": [
    "# There are no duplicate entries\n",
    "# Missing income values are removed. There's still about 15,000 movies with USA income and about 30,000 movies with\n",
    "# a worldwide income, all with revenue in dollars.\n",
    "\n",
    "df_movies = pd.read_csv('IMDb movies.csv')\n",
    "df_names = pd.read_csv('IMDb names.csv')\n",
    "df_ratings = pd.read_csv('IMDb ratings.csv')\n",
    "df_principals = pd.read_csv('IMDb title_principals.csv')\n",
    "\n",
    "conn = sqlite3.connect('imdb.db')"
   ]
  },
  {
   "cell_type": "code",
   "execution_count": 5,
   "metadata": {
    "execution": {
     "iopub.execute_input": "2021-12-12T13:21:50.950456Z",
     "iopub.status.busy": "2021-12-12T13:21:50.950218Z",
     "iopub.status.idle": "2021-12-12T13:21:51.108519Z",
     "shell.execute_reply": "2021-12-12T13:21:51.107866Z",
     "shell.execute_reply.started": "2021-12-12T13:21:50.950427Z"
    }
   },
   "outputs": [],
   "source": [
    "# Splits df_movies from the kaggle dataset into those with USA revenues and those with global revenues.\n",
    "# Along the way, it dumps all those movies without either of those revenues.\n",
    "# Given the amount of movies still in df_movies_usa and df_movies_world, I see no need to edit them. They will be\n",
    "# accessed as necessary.\n",
    "\n",
    "df_movies_usa = df_movies[df_movies['usa_gross_income'].notna()]\n",
    "df_movies_usa = df_movies_usa[df_movies_usa['usa_gross_income'].str[0] == '$']\n",
    "df_movies_usa['usa_income_adj'] = (df_movies_usa['usa_gross_income'].str[2:].astype('int'))*(1.03**(2021-df_movies_usa['year'].astype('int')))\n",
    "\n",
    "df_movies_world = df_movies[df_movies['worlwide_gross_income'].notna()]\n",
    "df_movies_world = df_movies_world[df_movies_world['worlwide_gross_income'].str[0] == '$']\n",
    "df_movies_world['world_income_adj'] = (df_movies_world['worlwide_gross_income'].str[2:].astype('int'))*(1.03**(2021-df_movies_world['year'].astype('int')))"
   ]
  },
  {
   "cell_type": "code",
   "execution_count": 6,
   "metadata": {
    "execution": {
     "iopub.execute_input": "2021-12-12T13:21:51.110867Z",
     "iopub.status.busy": "2021-12-12T13:21:51.109934Z",
     "iopub.status.idle": "2021-12-12T13:22:05.885770Z",
     "shell.execute_reply": "2021-12-12T13:22:05.884925Z",
     "shell.execute_reply.started": "2021-12-12T13:21:51.110814Z"
    }
   },
   "outputs": [],
   "source": [
    "# This cell may take a few seconds\n",
    "\n",
    "# Adds the following tables to the db declared earlier in the conn variable:\n",
    "# movies_usa: movies with usa revenue\n",
    "# movies_global: movies with global revenue\n",
    "# names: people involved in movies such as actors, actresses, and directors\n",
    "# ratings: ratings data for each movie along with some demographic information\n",
    "# principals: details on which job each person had in each moveis\n",
    "\n",
    "#df_movies_usa.to_sql('movies_usa',conn,if_exists='replace',index=False)\n",
    "df_movies.to_sql('imdb_movies',conn,if_exists='replace',index=False)\n",
    "df_names.to_sql('imdb_names',conn,if_exists='replace',index=False)\n",
    "df_ratings.to_sql('imdb_ratings',conn,if_exists='replace',index=False)\n",
    "df_principals.to_sql('imdb_title_principals',conn,if_exists='replace',index=False)\n",
    "\n",
    "# How to read each table in the db into a pandas data frame is given by the code below:\n",
    "# \n",
    "# pd.read_sql_query('SELECT * FROM movies_world',conn)\n",
    "# \n",
    "# which accesses the movies_world table (those with worldwide gross revenues) from the conn db created earlier."
   ]
  },
  {
   "cell_type": "code",
   "execution_count": 7,
   "metadata": {
    "execution": {
     "iopub.execute_input": "2021-12-12T13:22:05.888301Z",
     "iopub.status.busy": "2021-12-12T13:22:05.888068Z",
     "iopub.status.idle": "2021-12-12T13:22:06.017701Z",
     "shell.execute_reply": "2021-12-12T13:22:06.016865Z",
     "shell.execute_reply.started": "2021-12-12T13:22:05.888275Z"
    }
   },
   "outputs": [
    {
     "data": {
      "text/html": [
       "<div>\n",
       "<style scoped>\n",
       "    .dataframe tbody tr th:only-of-type {\n",
       "        vertical-align: middle;\n",
       "    }\n",
       "\n",
       "    .dataframe tbody tr th {\n",
       "        vertical-align: top;\n",
       "    }\n",
       "\n",
       "    .dataframe thead th {\n",
       "        text-align: right;\n",
       "    }\n",
       "</style>\n",
       "<table border=\"1\" class=\"dataframe\">\n",
       "  <thead>\n",
       "    <tr style=\"text-align: right;\">\n",
       "      <th></th>\n",
       "      <th>imdb_title_id</th>\n",
       "      <th>title</th>\n",
       "      <th>original_title</th>\n",
       "      <th>year</th>\n",
       "      <th>date_published</th>\n",
       "      <th>genre</th>\n",
       "      <th>duration</th>\n",
       "      <th>country</th>\n",
       "      <th>language</th>\n",
       "      <th>director</th>\n",
       "      <th>...</th>\n",
       "      <th>actors</th>\n",
       "      <th>description</th>\n",
       "      <th>avg_vote</th>\n",
       "      <th>votes</th>\n",
       "      <th>budget</th>\n",
       "      <th>usa_gross_income</th>\n",
       "      <th>worlwide_gross_income</th>\n",
       "      <th>metascore</th>\n",
       "      <th>reviews_from_users</th>\n",
       "      <th>reviews_from_critics</th>\n",
       "    </tr>\n",
       "  </thead>\n",
       "  <tbody>\n",
       "    <tr>\n",
       "      <th>0</th>\n",
       "      <td>tt0000009</td>\n",
       "      <td>Miss Jerry</td>\n",
       "      <td>Miss Jerry</td>\n",
       "      <td>1894</td>\n",
       "      <td>1894-10-09</td>\n",
       "      <td>Romance</td>\n",
       "      <td>45</td>\n",
       "      <td>USA</td>\n",
       "      <td>None</td>\n",
       "      <td>Alexander Black</td>\n",
       "      <td>...</td>\n",
       "      <td>Blanche Bayliss, William Courtenay, Chauncey D...</td>\n",
       "      <td>The adventures of a female reporter in the 1890s.</td>\n",
       "      <td>5.9</td>\n",
       "      <td>154</td>\n",
       "      <td>NaN</td>\n",
       "      <td>NaN</td>\n",
       "      <td>NaN</td>\n",
       "      <td>NaN</td>\n",
       "      <td>1.0</td>\n",
       "      <td>2.0</td>\n",
       "    </tr>\n",
       "    <tr>\n",
       "      <th>1</th>\n",
       "      <td>tt0000574</td>\n",
       "      <td>The Story of the Kelly Gang</td>\n",
       "      <td>The Story of the Kelly Gang</td>\n",
       "      <td>1906</td>\n",
       "      <td>1906-12-26</td>\n",
       "      <td>Biography, Crime, Drama</td>\n",
       "      <td>70</td>\n",
       "      <td>Australia</td>\n",
       "      <td>None</td>\n",
       "      <td>Charles Tait</td>\n",
       "      <td>...</td>\n",
       "      <td>Elizabeth Tait, John Tait, Norman Campbell, Be...</td>\n",
       "      <td>True story of notorious Australian outlaw Ned ...</td>\n",
       "      <td>6.1</td>\n",
       "      <td>589</td>\n",
       "      <td>$ 2250</td>\n",
       "      <td>NaN</td>\n",
       "      <td>NaN</td>\n",
       "      <td>NaN</td>\n",
       "      <td>7.0</td>\n",
       "      <td>7.0</td>\n",
       "    </tr>\n",
       "    <tr>\n",
       "      <th>2</th>\n",
       "      <td>tt0001892</td>\n",
       "      <td>Den sorte drøm</td>\n",
       "      <td>Den sorte drøm</td>\n",
       "      <td>1911</td>\n",
       "      <td>1911-08-19</td>\n",
       "      <td>Drama</td>\n",
       "      <td>53</td>\n",
       "      <td>Germany, Denmark</td>\n",
       "      <td>NaN</td>\n",
       "      <td>Urban Gad</td>\n",
       "      <td>...</td>\n",
       "      <td>Asta Nielsen, Valdemar Psilander, Gunnar Helse...</td>\n",
       "      <td>Two men of high rank are both wooing the beaut...</td>\n",
       "      <td>5.8</td>\n",
       "      <td>188</td>\n",
       "      <td>NaN</td>\n",
       "      <td>NaN</td>\n",
       "      <td>NaN</td>\n",
       "      <td>NaN</td>\n",
       "      <td>5.0</td>\n",
       "      <td>2.0</td>\n",
       "    </tr>\n",
       "    <tr>\n",
       "      <th>3</th>\n",
       "      <td>tt0002101</td>\n",
       "      <td>Cleopatra</td>\n",
       "      <td>Cleopatra</td>\n",
       "      <td>1912</td>\n",
       "      <td>1912-11-13</td>\n",
       "      <td>Drama, History</td>\n",
       "      <td>100</td>\n",
       "      <td>USA</td>\n",
       "      <td>English</td>\n",
       "      <td>Charles L. Gaskill</td>\n",
       "      <td>...</td>\n",
       "      <td>Helen Gardner, Pearl Sindelar, Miss Fielding, ...</td>\n",
       "      <td>The fabled queen of Egypt's affair with Roman ...</td>\n",
       "      <td>5.2</td>\n",
       "      <td>446</td>\n",
       "      <td>$ 45000</td>\n",
       "      <td>NaN</td>\n",
       "      <td>NaN</td>\n",
       "      <td>NaN</td>\n",
       "      <td>25.0</td>\n",
       "      <td>3.0</td>\n",
       "    </tr>\n",
       "    <tr>\n",
       "      <th>4</th>\n",
       "      <td>tt0002130</td>\n",
       "      <td>L'Inferno</td>\n",
       "      <td>L'Inferno</td>\n",
       "      <td>1911</td>\n",
       "      <td>1911-03-06</td>\n",
       "      <td>Adventure, Drama, Fantasy</td>\n",
       "      <td>68</td>\n",
       "      <td>Italy</td>\n",
       "      <td>Italian</td>\n",
       "      <td>Francesco Bertolini, Adolfo Padovan</td>\n",
       "      <td>...</td>\n",
       "      <td>Salvatore Papa, Arturo Pirovano, Giuseppe de L...</td>\n",
       "      <td>Loosely adapted from Dante's Divine Comedy and...</td>\n",
       "      <td>7.0</td>\n",
       "      <td>2237</td>\n",
       "      <td>NaN</td>\n",
       "      <td>NaN</td>\n",
       "      <td>NaN</td>\n",
       "      <td>NaN</td>\n",
       "      <td>31.0</td>\n",
       "      <td>14.0</td>\n",
       "    </tr>\n",
       "    <tr>\n",
       "      <th>...</th>\n",
       "      <td>...</td>\n",
       "      <td>...</td>\n",
       "      <td>...</td>\n",
       "      <td>...</td>\n",
       "      <td>...</td>\n",
       "      <td>...</td>\n",
       "      <td>...</td>\n",
       "      <td>...</td>\n",
       "      <td>...</td>\n",
       "      <td>...</td>\n",
       "      <td>...</td>\n",
       "      <td>...</td>\n",
       "      <td>...</td>\n",
       "      <td>...</td>\n",
       "      <td>...</td>\n",
       "      <td>...</td>\n",
       "      <td>...</td>\n",
       "      <td>...</td>\n",
       "      <td>...</td>\n",
       "      <td>...</td>\n",
       "      <td>...</td>\n",
       "    </tr>\n",
       "    <tr>\n",
       "      <th>85850</th>\n",
       "      <td>tt9908390</td>\n",
       "      <td>Le lion</td>\n",
       "      <td>Le lion</td>\n",
       "      <td>2020</td>\n",
       "      <td>2020-01-29</td>\n",
       "      <td>Comedy</td>\n",
       "      <td>95</td>\n",
       "      <td>France, Belgium</td>\n",
       "      <td>French</td>\n",
       "      <td>Ludovic Colbeau-Justin</td>\n",
       "      <td>...</td>\n",
       "      <td>Dany Boon, Philippe Katerine, Anne Serra, Samu...</td>\n",
       "      <td>A psychiatric hospital patient pretends to be ...</td>\n",
       "      <td>5.3</td>\n",
       "      <td>398</td>\n",
       "      <td>NaN</td>\n",
       "      <td>NaN</td>\n",
       "      <td>$ 3507171</td>\n",
       "      <td>NaN</td>\n",
       "      <td>NaN</td>\n",
       "      <td>4.0</td>\n",
       "    </tr>\n",
       "    <tr>\n",
       "      <th>85851</th>\n",
       "      <td>tt9911196</td>\n",
       "      <td>De Beentjes van Sint-Hildegard</td>\n",
       "      <td>De Beentjes van Sint-Hildegard</td>\n",
       "      <td>2020</td>\n",
       "      <td>2020-02-13</td>\n",
       "      <td>Comedy, Drama</td>\n",
       "      <td>103</td>\n",
       "      <td>Netherlands</td>\n",
       "      <td>German, Dutch</td>\n",
       "      <td>Johan Nijenhuis</td>\n",
       "      <td>...</td>\n",
       "      <td>Herman Finkers, Johanna ter Steege, Leonie ter...</td>\n",
       "      <td>A middle-aged veterinary surgeon believes his ...</td>\n",
       "      <td>7.7</td>\n",
       "      <td>724</td>\n",
       "      <td>NaN</td>\n",
       "      <td>NaN</td>\n",
       "      <td>$ 7299062</td>\n",
       "      <td>NaN</td>\n",
       "      <td>6.0</td>\n",
       "      <td>4.0</td>\n",
       "    </tr>\n",
       "    <tr>\n",
       "      <th>85852</th>\n",
       "      <td>tt9911774</td>\n",
       "      <td>Padmavyuhathile Abhimanyu</td>\n",
       "      <td>Padmavyuhathile Abhimanyu</td>\n",
       "      <td>2019</td>\n",
       "      <td>2019-03-08</td>\n",
       "      <td>Drama</td>\n",
       "      <td>130</td>\n",
       "      <td>India</td>\n",
       "      <td>Malayalam</td>\n",
       "      <td>Vineesh Aaradya</td>\n",
       "      <td>...</td>\n",
       "      <td>Anoop Chandran, Indrans, Sona Nair, Simon Brit...</td>\n",
       "      <td>NaN</td>\n",
       "      <td>7.9</td>\n",
       "      <td>265</td>\n",
       "      <td>NaN</td>\n",
       "      <td>NaN</td>\n",
       "      <td>NaN</td>\n",
       "      <td>NaN</td>\n",
       "      <td>NaN</td>\n",
       "      <td>NaN</td>\n",
       "    </tr>\n",
       "    <tr>\n",
       "      <th>85853</th>\n",
       "      <td>tt9914286</td>\n",
       "      <td>Sokagin Çocuklari</td>\n",
       "      <td>Sokagin Çocuklari</td>\n",
       "      <td>2019</td>\n",
       "      <td>2019-03-15</td>\n",
       "      <td>Drama, Family</td>\n",
       "      <td>98</td>\n",
       "      <td>Turkey</td>\n",
       "      <td>Turkish</td>\n",
       "      <td>Ahmet Faik Akinci</td>\n",
       "      <td>...</td>\n",
       "      <td>Ahmet Faik Akinci, Belma Mamati, Metin Keçeci,...</td>\n",
       "      <td>NaN</td>\n",
       "      <td>6.4</td>\n",
       "      <td>194</td>\n",
       "      <td>NaN</td>\n",
       "      <td>NaN</td>\n",
       "      <td>$ 2833</td>\n",
       "      <td>NaN</td>\n",
       "      <td>NaN</td>\n",
       "      <td>NaN</td>\n",
       "    </tr>\n",
       "    <tr>\n",
       "      <th>85854</th>\n",
       "      <td>tt9914942</td>\n",
       "      <td>La vida sense la Sara Amat</td>\n",
       "      <td>La vida sense la Sara Amat</td>\n",
       "      <td>2019</td>\n",
       "      <td>2020-02-05</td>\n",
       "      <td>Drama</td>\n",
       "      <td>74</td>\n",
       "      <td>Spain</td>\n",
       "      <td>Catalan</td>\n",
       "      <td>Laura Jou</td>\n",
       "      <td>...</td>\n",
       "      <td>Maria Morera Colomer, Biel Rossell Pelfort, Is...</td>\n",
       "      <td>Pep, a 13-year-old boy, is in love with a girl...</td>\n",
       "      <td>6.7</td>\n",
       "      <td>102</td>\n",
       "      <td>NaN</td>\n",
       "      <td>NaN</td>\n",
       "      <td>$ 59794</td>\n",
       "      <td>NaN</td>\n",
       "      <td>NaN</td>\n",
       "      <td>2.0</td>\n",
       "    </tr>\n",
       "  </tbody>\n",
       "</table>\n",
       "<p>85855 rows × 22 columns</p>\n",
       "</div>"
      ],
      "text/plain": [
       "      imdb_title_id                           title  \\\n",
       "0         tt0000009                      Miss Jerry   \n",
       "1         tt0000574     The Story of the Kelly Gang   \n",
       "2         tt0001892                  Den sorte drøm   \n",
       "3         tt0002101                       Cleopatra   \n",
       "4         tt0002130                       L'Inferno   \n",
       "...             ...                             ...   \n",
       "85850     tt9908390                         Le lion   \n",
       "85851     tt9911196  De Beentjes van Sint-Hildegard   \n",
       "85852     tt9911774       Padmavyuhathile Abhimanyu   \n",
       "85853     tt9914286               Sokagin Çocuklari   \n",
       "85854     tt9914942      La vida sense la Sara Amat   \n",
       "\n",
       "                       original_title  year date_published  \\\n",
       "0                          Miss Jerry  1894     1894-10-09   \n",
       "1         The Story of the Kelly Gang  1906     1906-12-26   \n",
       "2                      Den sorte drøm  1911     1911-08-19   \n",
       "3                           Cleopatra  1912     1912-11-13   \n",
       "4                           L'Inferno  1911     1911-03-06   \n",
       "...                               ...   ...            ...   \n",
       "85850                         Le lion  2020     2020-01-29   \n",
       "85851  De Beentjes van Sint-Hildegard  2020     2020-02-13   \n",
       "85852       Padmavyuhathile Abhimanyu  2019     2019-03-08   \n",
       "85853               Sokagin Çocuklari  2019     2019-03-15   \n",
       "85854      La vida sense la Sara Amat  2019     2020-02-05   \n",
       "\n",
       "                           genre  duration           country       language  \\\n",
       "0                        Romance        45               USA           None   \n",
       "1        Biography, Crime, Drama        70         Australia           None   \n",
       "2                          Drama        53  Germany, Denmark            NaN   \n",
       "3                 Drama, History       100               USA        English   \n",
       "4      Adventure, Drama, Fantasy        68             Italy        Italian   \n",
       "...                          ...       ...               ...            ...   \n",
       "85850                     Comedy        95   France, Belgium         French   \n",
       "85851              Comedy, Drama       103       Netherlands  German, Dutch   \n",
       "85852                      Drama       130             India      Malayalam   \n",
       "85853              Drama, Family        98            Turkey        Turkish   \n",
       "85854                      Drama        74             Spain        Catalan   \n",
       "\n",
       "                                  director  ...  \\\n",
       "0                          Alexander Black  ...   \n",
       "1                             Charles Tait  ...   \n",
       "2                                Urban Gad  ...   \n",
       "3                       Charles L. Gaskill  ...   \n",
       "4      Francesco Bertolini, Adolfo Padovan  ...   \n",
       "...                                    ...  ...   \n",
       "85850               Ludovic Colbeau-Justin  ...   \n",
       "85851                      Johan Nijenhuis  ...   \n",
       "85852                      Vineesh Aaradya  ...   \n",
       "85853                    Ahmet Faik Akinci  ...   \n",
       "85854                            Laura Jou  ...   \n",
       "\n",
       "                                                  actors  \\\n",
       "0      Blanche Bayliss, William Courtenay, Chauncey D...   \n",
       "1      Elizabeth Tait, John Tait, Norman Campbell, Be...   \n",
       "2      Asta Nielsen, Valdemar Psilander, Gunnar Helse...   \n",
       "3      Helen Gardner, Pearl Sindelar, Miss Fielding, ...   \n",
       "4      Salvatore Papa, Arturo Pirovano, Giuseppe de L...   \n",
       "...                                                  ...   \n",
       "85850  Dany Boon, Philippe Katerine, Anne Serra, Samu...   \n",
       "85851  Herman Finkers, Johanna ter Steege, Leonie ter...   \n",
       "85852  Anoop Chandran, Indrans, Sona Nair, Simon Brit...   \n",
       "85853  Ahmet Faik Akinci, Belma Mamati, Metin Keçeci,...   \n",
       "85854  Maria Morera Colomer, Biel Rossell Pelfort, Is...   \n",
       "\n",
       "                                             description avg_vote votes  \\\n",
       "0      The adventures of a female reporter in the 1890s.      5.9   154   \n",
       "1      True story of notorious Australian outlaw Ned ...      6.1   589   \n",
       "2      Two men of high rank are both wooing the beaut...      5.8   188   \n",
       "3      The fabled queen of Egypt's affair with Roman ...      5.2   446   \n",
       "4      Loosely adapted from Dante's Divine Comedy and...      7.0  2237   \n",
       "...                                                  ...      ...   ...   \n",
       "85850  A psychiatric hospital patient pretends to be ...      5.3   398   \n",
       "85851  A middle-aged veterinary surgeon believes his ...      7.7   724   \n",
       "85852                                                NaN      7.9   265   \n",
       "85853                                                NaN      6.4   194   \n",
       "85854  Pep, a 13-year-old boy, is in love with a girl...      6.7   102   \n",
       "\n",
       "        budget  usa_gross_income worlwide_gross_income metascore  \\\n",
       "0          NaN               NaN                   NaN       NaN   \n",
       "1       $ 2250               NaN                   NaN       NaN   \n",
       "2          NaN               NaN                   NaN       NaN   \n",
       "3      $ 45000               NaN                   NaN       NaN   \n",
       "4          NaN               NaN                   NaN       NaN   \n",
       "...        ...               ...                   ...       ...   \n",
       "85850      NaN               NaN             $ 3507171       NaN   \n",
       "85851      NaN               NaN             $ 7299062       NaN   \n",
       "85852      NaN               NaN                   NaN       NaN   \n",
       "85853      NaN               NaN                $ 2833       NaN   \n",
       "85854      NaN               NaN               $ 59794       NaN   \n",
       "\n",
       "      reviews_from_users  reviews_from_critics  \n",
       "0                    1.0                   2.0  \n",
       "1                    7.0                   7.0  \n",
       "2                    5.0                   2.0  \n",
       "3                   25.0                   3.0  \n",
       "4                   31.0                  14.0  \n",
       "...                  ...                   ...  \n",
       "85850                NaN                   4.0  \n",
       "85851                6.0                   4.0  \n",
       "85852                NaN                   NaN  \n",
       "85853                NaN                   NaN  \n",
       "85854                NaN                   2.0  \n",
       "\n",
       "[85855 rows x 22 columns]"
      ]
     },
     "execution_count": 7,
     "metadata": {},
     "output_type": "execute_result"
    }
   ],
   "source": [
    "df_movies"
   ]
  },
  {
   "cell_type": "code",
   "execution_count": 8,
   "metadata": {
    "execution": {
     "iopub.execute_input": "2021-12-12T13:22:06.019062Z",
     "iopub.status.busy": "2021-12-12T13:22:06.018836Z",
     "iopub.status.idle": "2021-12-12T13:22:07.037474Z",
     "shell.execute_reply": "2021-12-12T13:22:07.036667Z",
     "shell.execute_reply.started": "2021-12-12T13:22:06.019034Z"
    }
   },
   "outputs": [],
   "source": [
    "# Import some libraries\n",
    "\n",
    "import numpy as np\n",
    "import pandas as pd\n",
    "pd.options.mode.chained_assignment = None\n",
    "import matplotlib.pyplot as plt\n",
    "import seaborn as sns\n",
    "sns.set(style='whitegrid')\n",
    "\n",
    "import datetime\n",
    "\n",
    "import textwrap\n",
    "import string\n"
   ]
  },
  {
   "cell_type": "code",
   "execution_count": 7,
   "metadata": {
    "execution": {
     "iopub.execute_input": "2021-12-12T13:22:07.039144Z",
     "iopub.status.busy": "2021-12-12T13:22:07.038939Z",
     "iopub.status.idle": "2021-12-12T13:22:07.318140Z",
     "shell.execute_reply": "2021-12-12T13:22:07.317035Z",
     "shell.execute_reply.started": "2021-12-12T13:22:07.039119Z"
    }
   },
   "outputs": [
    {
     "data": {
      "image/png": "[encoded data removed]",
      "text/plain": [
       "<Figure size 1152x432 with 1 Axes>"
      ]
     },
     "metadata": {},
     "output_type": "display_data"
    },
    {
     "data": {
      "text/html": [
       "<div>\n",
       "<style scoped>\n",
       "    .dataframe tbody tr th:only-of-type {\n",
       "        vertical-align: middle;\n",
       "    }\n",
       "\n",
       "    .dataframe tbody tr th {\n",
       "        vertical-align: top;\n",
       "    }\n",
       "\n",
       "    .dataframe thead th {\n",
       "        text-align: right;\n",
       "    }\n",
       "</style>\n",
       "<table border=\"1\" class=\"dataframe\">\n",
       "  <thead>\n",
       "    <tr style=\"text-align: right;\">\n",
       "      <th></th>\n",
       "      <th>Genre</th>\n",
       "      <th>movie_count</th>\n",
       "    </tr>\n",
       "  </thead>\n",
       "  <tbody>\n",
       "    <tr>\n",
       "      <th>0</th>\n",
       "      <td>Drama</td>\n",
       "      <td>12543</td>\n",
       "    </tr>\n",
       "    <tr>\n",
       "      <th>1</th>\n",
       "      <td>Comedy</td>\n",
       "      <td>7693</td>\n",
       "    </tr>\n",
       "    <tr>\n",
       "      <th>2</th>\n",
       "      <td>Comedy, Drama</td>\n",
       "      <td>4039</td>\n",
       "    </tr>\n",
       "    <tr>\n",
       "      <th>3</th>\n",
       "      <td>Drama, Romance</td>\n",
       "      <td>3455</td>\n",
       "    </tr>\n",
       "    <tr>\n",
       "      <th>4</th>\n",
       "      <td>Comedy, Romance</td>\n",
       "      <td>2508</td>\n",
       "    </tr>\n",
       "  </tbody>\n",
       "</table>\n",
       "</div>"
      ],
      "text/plain": [
       "             Genre  movie_count\n",
       "0            Drama        12543\n",
       "1           Comedy         7693\n",
       "2    Comedy, Drama         4039\n",
       "3   Drama, Romance         3455\n",
       "4  Comedy, Romance         2508"
      ]
     },
     "execution_count": 7,
     "metadata": {},
     "output_type": "execute_result"
    }
   ],
   "source": [
    "df1 = pd.read_sql_query('Select Genre,movie_count from (Select Genre,Count(imdb_title_id) as movie_count from imdb_movies group by Genre) order by  movie_count desc Limit 5',conn)\n",
    "fig, ax = plt.subplots(figsize = (16,6))\n",
    "\n",
    "genres = df1['Genre']\n",
    "count_movies = df1['movie_count']\n",
    "\n",
    "\n",
    "\n",
    "ax.pie(x=count_movies, autopct=\"%.2f%%\", labels=genres, pctdistance=0.5)\n",
    "ax.set_title('Top 5 Genres Based on Movie Counts', fontsize = 18)\n",
    "\n",
    "\n",
    "\n",
    "plt.show()\n",
    "df1"
   ]
  },
  {
   "cell_type": "code",
   "execution_count": 8,
   "metadata": {
    "execution": {
     "iopub.execute_input": "2021-12-12T13:22:07.320601Z",
     "iopub.status.busy": "2021-12-12T13:22:07.320250Z",
     "iopub.status.idle": "2021-12-12T13:22:07.726225Z",
     "shell.execute_reply": "2021-12-12T13:22:07.725254Z",
     "shell.execute_reply.started": "2021-12-12T13:22:07.320537Z"
    }
   },
   "outputs": [
    {
     "data": {
      "image/png": "[encoded data removed]",
      "text/plain": [
       "<Figure size 1152x432 with 1 Axes>"
      ]
     },
     "metadata": {},
     "output_type": "display_data"
    },
    {
     "data": {
      "text/html": [
       "<div>\n",
       "<style scoped>\n",
       "    .dataframe tbody tr th:only-of-type {\n",
       "        vertical-align: middle;\n",
       "    }\n",
       "\n",
       "    .dataframe tbody tr th {\n",
       "        vertical-align: top;\n",
       "    }\n",
       "\n",
       "    .dataframe thead th {\n",
       "        text-align: right;\n",
       "    }\n",
       "</style>\n",
       "<table border=\"1\" class=\"dataframe\">\n",
       "  <thead>\n",
       "    <tr style=\"text-align: right;\">\n",
       "      <th></th>\n",
       "      <th>year</th>\n",
       "      <th>movie_count</th>\n",
       "    </tr>\n",
       "  </thead>\n",
       "  <tbody>\n",
       "    <tr>\n",
       "      <th>0</th>\n",
       "      <td>1894</td>\n",
       "      <td>1</td>\n",
       "    </tr>\n",
       "    <tr>\n",
       "      <th>1</th>\n",
       "      <td>1906</td>\n",
       "      <td>1</td>\n",
       "    </tr>\n",
       "    <tr>\n",
       "      <th>2</th>\n",
       "      <td>1911</td>\n",
       "      <td>5</td>\n",
       "    </tr>\n",
       "    <tr>\n",
       "      <th>3</th>\n",
       "      <td>1912</td>\n",
       "      <td>5</td>\n",
       "    </tr>\n",
       "    <tr>\n",
       "      <th>4</th>\n",
       "      <td>1913</td>\n",
       "      <td>13</td>\n",
       "    </tr>\n",
       "    <tr>\n",
       "      <th>...</th>\n",
       "      <td>...</td>\n",
       "      <td>...</td>\n",
       "    </tr>\n",
       "    <tr>\n",
       "      <th>108</th>\n",
       "      <td>2017</td>\n",
       "      <td>3329</td>\n",
       "    </tr>\n",
       "    <tr>\n",
       "      <th>109</th>\n",
       "      <td>2018</td>\n",
       "      <td>3257</td>\n",
       "    </tr>\n",
       "    <tr>\n",
       "      <th>110</th>\n",
       "      <td>2019</td>\n",
       "      <td>2841</td>\n",
       "    </tr>\n",
       "    <tr>\n",
       "      <th>111</th>\n",
       "      <td>2020</td>\n",
       "      <td>789</td>\n",
       "    </tr>\n",
       "    <tr>\n",
       "      <th>112</th>\n",
       "      <td>TV Movie 2019</td>\n",
       "      <td>1</td>\n",
       "    </tr>\n",
       "  </tbody>\n",
       "</table>\n",
       "<p>113 rows × 2 columns</p>\n",
       "</div>"
      ],
      "text/plain": [
       "              year  movie_count\n",
       "0             1894            1\n",
       "1             1906            1\n",
       "2             1911            5\n",
       "3             1912            5\n",
       "4             1913           13\n",
       "..             ...          ...\n",
       "108           2017         3329\n",
       "109           2018         3257\n",
       "110           2019         2841\n",
       "111           2020          789\n",
       "112  TV Movie 2019            1\n",
       "\n",
       "[113 rows x 2 columns]"
      ]
     },
     "execution_count": 8,
     "metadata": {},
     "output_type": "execute_result"
    }
   ],
   "source": [
    "df2 = pd.read_sql_query('Select year,Count(imdb_title_id) as movie_count from imdb_movies group by year order by year asc',conn)\n",
    "fig, ax = plt.subplots(figsize = (16,6))\n",
    "sns.barplot(ax = ax, x = df2['year'][101:112], y = df2['movie_count'][101:112])\n",
    "ax.set_title('Movie Counts Based on Year', fontsize = 18)\n",
    "ax.set_xlabel('Year')\n",
    "ax.set_ylabel('No. of Movies')\n",
    "plt.show()\n",
    "df2"
   ]
  },
  {
   "cell_type": "code",
   "execution_count": 9,
   "metadata": {
    "execution": {
     "iopub.execute_input": "2021-12-12T13:22:07.727868Z",
     "iopub.status.busy": "2021-12-12T13:22:07.727596Z",
     "iopub.status.idle": "2021-12-12T13:22:08.341077Z",
     "shell.execute_reply": "2021-12-12T13:22:08.339993Z",
     "shell.execute_reply.started": "2021-12-12T13:22:07.727836Z"
    }
   },
   "outputs": [
    {
     "data": {
      "image/png": "[encoded data removed]",
      "text/plain": [
       "<Figure size 1152x432 with 1 Axes>"
      ]
     },
     "metadata": {},
     "output_type": "display_data"
    },
    {
     "data": {
      "text/html": [
       "<div>\n",
       "<style scoped>\n",
       "    .dataframe tbody tr th:only-of-type {\n",
       "        vertical-align: middle;\n",
       "    }\n",
       "\n",
       "    .dataframe tbody tr th {\n",
       "        vertical-align: top;\n",
       "    }\n",
       "\n",
       "    .dataframe thead th {\n",
       "        text-align: right;\n",
       "    }\n",
       "</style>\n",
       "<table border=\"1\" class=\"dataframe\">\n",
       "  <thead>\n",
       "    <tr style=\"text-align: right;\">\n",
       "      <th></th>\n",
       "      <th>title</th>\n",
       "      <th>weighted_average_vote</th>\n",
       "    </tr>\n",
       "  </thead>\n",
       "  <tbody>\n",
       "    <tr>\n",
       "      <th>0</th>\n",
       "      <td>Suvarna Sundari</td>\n",
       "      <td>9.9</td>\n",
       "    </tr>\n",
       "    <tr>\n",
       "      <th>1</th>\n",
       "      <td>Notuku Potu</td>\n",
       "      <td>9.8</td>\n",
       "    </tr>\n",
       "    <tr>\n",
       "      <th>2</th>\n",
       "      <td>Lejos de Casa pelicula Venezolana</td>\n",
       "      <td>9.8</td>\n",
       "    </tr>\n",
       "    <tr>\n",
       "      <th>3</th>\n",
       "      <td>Jeeudo</td>\n",
       "      <td>9.8</td>\n",
       "    </tr>\n",
       "    <tr>\n",
       "      <th>4</th>\n",
       "      <td>Ek</td>\n",
       "      <td>9.8</td>\n",
       "    </tr>\n",
       "    <tr>\n",
       "      <th>5</th>\n",
       "      <td>Vaarthakal Ithuvare</td>\n",
       "      <td>9.7</td>\n",
       "    </tr>\n",
       "    <tr>\n",
       "      <th>6</th>\n",
       "      <td>Meka Suri</td>\n",
       "      <td>9.7</td>\n",
       "    </tr>\n",
       "    <tr>\n",
       "      <th>7</th>\n",
       "      <td>Hopeful Notes</td>\n",
       "      <td>9.7</td>\n",
       "    </tr>\n",
       "    <tr>\n",
       "      <th>8</th>\n",
       "      <td>The Moving on Phase</td>\n",
       "      <td>9.5</td>\n",
       "    </tr>\n",
       "    <tr>\n",
       "      <th>9</th>\n",
       "      <td>Isha</td>\n",
       "      <td>9.5</td>\n",
       "    </tr>\n",
       "  </tbody>\n",
       "</table>\n",
       "</div>"
      ],
      "text/plain": [
       "                               title  weighted_average_vote\n",
       "0                    Suvarna Sundari                    9.9\n",
       "1                        Notuku Potu                    9.8\n",
       "2  Lejos de Casa pelicula Venezolana                    9.8\n",
       "3                             Jeeudo                    9.8\n",
       "4                                 Ek                    9.8\n",
       "5                Vaarthakal Ithuvare                    9.7\n",
       "6                          Meka Suri                    9.7\n",
       "7                      Hopeful Notes                    9.7\n",
       "8                The Moving on Phase                    9.5\n",
       "9                               Isha                    9.5"
      ]
     },
     "execution_count": 9,
     "metadata": {},
     "output_type": "execute_result"
    }
   ],
   "source": [
    "df3 = pd.read_sql_query('Select A.title,B.weighted_average_vote from imdb_movies A inner join imdb_ratings B on A.imdb_title_id = B.imdb_title_id group by A.title order by B.weighted_average_vote desc Limit 10',conn)\n",
    "fig, ax = plt.subplots(figsize = (16,6))\n",
    "sns.barplot(ax = ax, x = df3['title'], y = df3['weighted_average_vote'])\n",
    "ax.set_title('All time highest rated movie', fontsize = 18)\n",
    "ax.set_xlabel('Movies')\n",
    "ax.set_ylabel('Movie Rating')\n",
    "ax.set_ylim(9, 10)\n",
    "plt.show()\n",
    "df3"
   ]
  },
  {
   "cell_type": "code",
   "execution_count": 10,
   "metadata": {
    "execution": {
     "iopub.execute_input": "2021-12-12T13:22:08.342820Z",
     "iopub.status.busy": "2021-12-12T13:22:08.342518Z",
     "iopub.status.idle": "2021-12-12T13:22:08.912101Z",
     "shell.execute_reply": "2021-12-12T13:22:08.911278Z",
     "shell.execute_reply.started": "2021-12-12T13:22:08.342773Z"
    }
   },
   "outputs": [
    {
     "data": {
      "image/png": "[encoded data removed]",
      "text/plain": [
       "<Figure size 1152x432 with 1 Axes>"
      ]
     },
     "metadata": {},
     "output_type": "display_data"
    },
    {
     "data": {
      "text/html": [
       "<div>\n",
       "<style scoped>\n",
       "    .dataframe tbody tr th:only-of-type {\n",
       "        vertical-align: middle;\n",
       "    }\n",
       "\n",
       "    .dataframe tbody tr th {\n",
       "        vertical-align: top;\n",
       "    }\n",
       "\n",
       "    .dataframe thead th {\n",
       "        text-align: right;\n",
       "    }\n",
       "</style>\n",
       "<table border=\"1\" class=\"dataframe\">\n",
       "  <thead>\n",
       "    <tr style=\"text-align: right;\">\n",
       "      <th></th>\n",
       "      <th>year</th>\n",
       "      <th>year_rating</th>\n",
       "    </tr>\n",
       "  </thead>\n",
       "  <tbody>\n",
       "    <tr>\n",
       "      <th>0</th>\n",
       "      <td>1894</td>\n",
       "      <td>5.900000</td>\n",
       "    </tr>\n",
       "    <tr>\n",
       "      <th>1</th>\n",
       "      <td>1906</td>\n",
       "      <td>6.100000</td>\n",
       "    </tr>\n",
       "    <tr>\n",
       "      <th>2</th>\n",
       "      <td>1911</td>\n",
       "      <td>6.140000</td>\n",
       "    </tr>\n",
       "    <tr>\n",
       "      <th>3</th>\n",
       "      <td>1912</td>\n",
       "      <td>5.980000</td>\n",
       "    </tr>\n",
       "    <tr>\n",
       "      <th>4</th>\n",
       "      <td>1913</td>\n",
       "      <td>6.546154</td>\n",
       "    </tr>\n",
       "    <tr>\n",
       "      <th>...</th>\n",
       "      <td>...</td>\n",
       "      <td>...</td>\n",
       "    </tr>\n",
       "    <tr>\n",
       "      <th>108</th>\n",
       "      <td>2017</td>\n",
       "      <td>5.696786</td>\n",
       "    </tr>\n",
       "    <tr>\n",
       "      <th>109</th>\n",
       "      <td>2018</td>\n",
       "      <td>5.688609</td>\n",
       "    </tr>\n",
       "    <tr>\n",
       "      <th>110</th>\n",
       "      <td>2019</td>\n",
       "      <td>5.791271</td>\n",
       "    </tr>\n",
       "    <tr>\n",
       "      <th>111</th>\n",
       "      <td>2020</td>\n",
       "      <td>5.564005</td>\n",
       "    </tr>\n",
       "    <tr>\n",
       "      <th>112</th>\n",
       "      <td>TV Movie 2019</td>\n",
       "      <td>7.100000</td>\n",
       "    </tr>\n",
       "  </tbody>\n",
       "</table>\n",
       "<p>113 rows × 2 columns</p>\n",
       "</div>"
      ],
      "text/plain": [
       "              year  year_rating\n",
       "0             1894     5.900000\n",
       "1             1906     6.100000\n",
       "2             1911     6.140000\n",
       "3             1912     5.980000\n",
       "4             1913     6.546154\n",
       "..             ...          ...\n",
       "108           2017     5.696786\n",
       "109           2018     5.688609\n",
       "110           2019     5.791271\n",
       "111           2020     5.564005\n",
       "112  TV Movie 2019     7.100000\n",
       "\n",
       "[113 rows x 2 columns]"
      ]
     },
     "execution_count": 10,
     "metadata": {},
     "output_type": "execute_result"
    }
   ],
   "source": [
    "df4 = pd.read_sql_query('''Select A.year,AVG(B.weighted_average_vote) as year_rating from imdb_movies A inner join imdb_ratings B on A.imdb_title_id = B.imdb_title_id\n",
    "group by A.year order by A.year asc \n",
    "''',conn)\n",
    "fig, ax = plt.subplots(figsize = (16,6))\n",
    "sns.barplot(ax = ax, x = df4['year'][101:112], y = df4['year_rating'][101:112])\n",
    "ax.set_title('Avg movie rating per year', fontsize = 18)\n",
    "ax.set_xlabel('Year')\n",
    "ax.set_ylabel('Movie rating')\n",
    "ax.set_ylim(5, 6)\n",
    "plt.show()\n",
    "df4"
   ]
  },
  {
   "cell_type": "code",
   "execution_count": 11,
   "metadata": {
    "execution": {
     "iopub.execute_input": "2021-12-12T13:22:08.913663Z",
     "iopub.status.busy": "2021-12-12T13:22:08.913334Z",
     "iopub.status.idle": "2021-12-12T13:22:09.977513Z",
     "shell.execute_reply": "2021-12-12T13:22:09.976708Z",
     "shell.execute_reply.started": "2021-12-12T13:22:08.913631Z"
    }
   },
   "outputs": [
    {
     "data": {
      "image/png": "[encoded data removed]",
      "text/plain": [
       "<Figure size 1152x432 with 1 Axes>"
      ]
     },
     "metadata": {},
     "output_type": "display_data"
    },
    {
     "data": {
      "text/html": [
       "<div>\n",
       "<style scoped>\n",
       "    .dataframe tbody tr th:only-of-type {\n",
       "        vertical-align: middle;\n",
       "    }\n",
       "\n",
       "    .dataframe tbody tr th {\n",
       "        vertical-align: top;\n",
       "    }\n",
       "\n",
       "    .dataframe thead th {\n",
       "        text-align: right;\n",
       "    }\n",
       "</style>\n",
       "<table border=\"1\" class=\"dataframe\">\n",
       "  <thead>\n",
       "    <tr style=\"text-align: right;\">\n",
       "      <th></th>\n",
       "      <th>name</th>\n",
       "      <th>movie_count</th>\n",
       "    </tr>\n",
       "  </thead>\n",
       "  <tbody>\n",
       "    <tr>\n",
       "      <th>0</th>\n",
       "      <td>Mohanlal</td>\n",
       "      <td>163</td>\n",
       "    </tr>\n",
       "    <tr>\n",
       "      <th>1</th>\n",
       "      <td>Amitabh Bachchan</td>\n",
       "      <td>142</td>\n",
       "    </tr>\n",
       "    <tr>\n",
       "      <th>2</th>\n",
       "      <td>Mammootty</td>\n",
       "      <td>140</td>\n",
       "    </tr>\n",
       "    <tr>\n",
       "      <th>3</th>\n",
       "      <td>Eric Roberts</td>\n",
       "      <td>133</td>\n",
       "    </tr>\n",
       "    <tr>\n",
       "      <th>4</th>\n",
       "      <td>John Wayne</td>\n",
       "      <td>132</td>\n",
       "    </tr>\n",
       "    <tr>\n",
       "      <th>5</th>\n",
       "      <td>Gérard Depardieu</td>\n",
       "      <td>130</td>\n",
       "    </tr>\n",
       "    <tr>\n",
       "      <th>6</th>\n",
       "      <td>Prakash Raj</td>\n",
       "      <td>125</td>\n",
       "    </tr>\n",
       "    <tr>\n",
       "      <th>7</th>\n",
       "      <td>Akshay Kumar</td>\n",
       "      <td>115</td>\n",
       "    </tr>\n",
       "    <tr>\n",
       "      <th>8</th>\n",
       "      <td>Michael Madsen</td>\n",
       "      <td>107</td>\n",
       "    </tr>\n",
       "    <tr>\n",
       "      <th>9</th>\n",
       "      <td>Andy Lau</td>\n",
       "      <td>102</td>\n",
       "    </tr>\n",
       "  </tbody>\n",
       "</table>\n",
       "</div>"
      ],
      "text/plain": [
       "               name  movie_count\n",
       "0          Mohanlal          163\n",
       "1  Amitabh Bachchan          142\n",
       "2         Mammootty          140\n",
       "3      Eric Roberts          133\n",
       "4        John Wayne          132\n",
       "5  Gérard Depardieu          130\n",
       "6       Prakash Raj          125\n",
       "7      Akshay Kumar          115\n",
       "8    Michael Madsen          107\n",
       "9          Andy Lau          102"
      ]
     },
     "execution_count": 11,
     "metadata": {},
     "output_type": "execute_result"
    }
   ],
   "source": [
    "df5 = pd.read_sql_query('''Select B.name,A.movie_count from (Select imdb_name_id,Count(imdb_title_id) as movie_count from \n",
    "imdb_title_principals where category like '%actor%' group by  imdb_name_id ) A inner join imdb_names B \n",
    "on A.imdb_name_id = B.imdb_name_id order by  A.movie_count desc Limit 10''',conn)\n",
    "\n",
    "fig, ax = plt.subplots(figsize = (16,6))\n",
    "sns.barplot(ax = ax, x = df5['name'], y = df5['movie_count'])\n",
    "ax.set_title('Actor with most movies', fontsize = 18)\n",
    "ax.set_xlabel('Actor')\n",
    "ax.set_ylabel('Movie count')\n",
    "#ax.set_ylim(9, 10)\n",
    "plt.show()\n",
    "df5"
   ]
  },
  {
   "cell_type": "code",
   "execution_count": 21,
   "metadata": {
    "execution": {
     "iopub.execute_input": "2021-12-12T13:22:09.979855Z",
     "iopub.status.busy": "2021-12-12T13:22:09.979097Z",
     "iopub.status.idle": "2021-12-12T13:22:11.375991Z",
     "shell.execute_reply": "2021-12-12T13:22:11.374991Z",
     "shell.execute_reply.started": "2021-12-12T13:22:09.979799Z"
    }
   },
   "outputs": [
    {
     "data": {
      "image/png": "[encoded data removed]",
      "text/plain": [
       "<Figure size 1152x432 with 1 Axes>"
      ]
     },
     "metadata": {},
     "output_type": "display_data"
    },
    {
     "data": {
      "text/html": [
       "<div>\n",
       "<style scoped>\n",
       "    .dataframe tbody tr th:only-of-type {\n",
       "        vertical-align: middle;\n",
       "    }\n",
       "\n",
       "    .dataframe tbody tr th {\n",
       "        vertical-align: top;\n",
       "    }\n",
       "\n",
       "    .dataframe thead th {\n",
       "        text-align: right;\n",
       "    }\n",
       "</style>\n",
       "<table border=\"1\" class=\"dataframe\">\n",
       "  <thead>\n",
       "    <tr style=\"text-align: right;\">\n",
       "      <th></th>\n",
       "      <th>name</th>\n",
       "      <th>weighted_average_vote</th>\n",
       "    </tr>\n",
       "  </thead>\n",
       "  <tbody>\n",
       "    <tr>\n",
       "      <th>0</th>\n",
       "      <td>Pujan Ghishing</td>\n",
       "      <td>9.8</td>\n",
       "    </tr>\n",
       "    <tr>\n",
       "      <th>1</th>\n",
       "      <td>Prudhviraj</td>\n",
       "      <td>9.8</td>\n",
       "    </tr>\n",
       "    <tr>\n",
       "      <th>2</th>\n",
       "      <td>Prashant Baraili</td>\n",
       "      <td>9.8</td>\n",
       "    </tr>\n",
       "    <tr>\n",
       "      <th>3</th>\n",
       "      <td>Gabriel Buitrago</td>\n",
       "      <td>9.8</td>\n",
       "    </tr>\n",
       "    <tr>\n",
       "      <th>4</th>\n",
       "      <td>Darwing</td>\n",
       "      <td>9.8</td>\n",
       "    </tr>\n",
       "    <tr>\n",
       "      <th>5</th>\n",
       "      <td>Bishnu Adhikari</td>\n",
       "      <td>9.8</td>\n",
       "    </tr>\n",
       "    <tr>\n",
       "      <th>6</th>\n",
       "      <td>Walter Nudo</td>\n",
       "      <td>9.7</td>\n",
       "    </tr>\n",
       "    <tr>\n",
       "      <th>7</th>\n",
       "      <td>Sravan</td>\n",
       "      <td>9.7</td>\n",
       "    </tr>\n",
       "    <tr>\n",
       "      <th>8</th>\n",
       "      <td>Sharat Kumar</td>\n",
       "      <td>9.7</td>\n",
       "    </tr>\n",
       "    <tr>\n",
       "      <th>9</th>\n",
       "      <td>Naresh Byreddy</td>\n",
       "      <td>9.7</td>\n",
       "    </tr>\n",
       "  </tbody>\n",
       "</table>\n",
       "</div>"
      ],
      "text/plain": [
       "               name  weighted_average_vote\n",
       "0    Pujan Ghishing                    9.8\n",
       "1        Prudhviraj                    9.8\n",
       "2  Prashant Baraili                    9.8\n",
       "3  Gabriel Buitrago                    9.8\n",
       "4           Darwing                    9.8\n",
       "5   Bishnu Adhikari                    9.8\n",
       "6       Walter Nudo                    9.7\n",
       "7            Sravan                    9.7\n",
       "8      Sharat Kumar                    9.7\n",
       "9    Naresh Byreddy                    9.7"
      ]
     },
     "execution_count": 21,
     "metadata": {},
     "output_type": "execute_result"
    }
   ],
   "source": [
    "df6 = pd.read_sql_query('''Select D.name,C.weighted_average_vote from (Select A.imdb_name_id,A.imdb_title_id,B.weighted_average_vote  from imdb_title_principals A \n",
    "inner join imdb_ratings B on A.imdb_title_id = B.imdb_title_id where A.category like '%actor%' group by  imdb_name_id) C \n",
    "inner join imdb_names D on C.imdb_name_id = D.imdb_name_id group by D.name order by  C.weighted_average_vote desc Limit 10''',conn)\n",
    "fig, ax = plt.subplots(figsize = (16,6))\n",
    "sns.barplot(ax = ax, x = df6['name'], y = df6['weighted_average_vote'])\n",
    "ax.set_title('Actor with highest average rating', fontsize = 18)\n",
    "ax.set_xlabel('Actor')\n",
    "ax.set_ylabel('Avg rating')\n",
    "ax.set_ylim(9, 10)\n",
    "plt.show()\n",
    "df6"
   ]
  },
  {
   "cell_type": "code",
   "execution_count": 13,
   "metadata": {
    "execution": {
     "iopub.execute_input": "2021-12-12T13:22:11.379932Z",
     "iopub.status.busy": "2021-12-12T13:22:11.379401Z",
     "iopub.status.idle": "2021-12-12T13:22:12.214406Z",
     "shell.execute_reply": "2021-12-12T13:22:12.213475Z",
     "shell.execute_reply.started": "2021-12-12T13:22:11.379894Z"
    }
   },
   "outputs": [
    {
     "data": {
      "image/png": "[encoded data removed]",
      "text/plain": [
       "<Figure size 1152x432 with 1 Axes>"
      ]
     },
     "metadata": {},
     "output_type": "display_data"
    },
    {
     "data": {
      "text/html": [
       "<div>\n",
       "<style scoped>\n",
       "    .dataframe tbody tr th:only-of-type {\n",
       "        vertical-align: middle;\n",
       "    }\n",
       "\n",
       "    .dataframe tbody tr th {\n",
       "        vertical-align: top;\n",
       "    }\n",
       "\n",
       "    .dataframe thead th {\n",
       "        text-align: right;\n",
       "    }\n",
       "</style>\n",
       "<table border=\"1\" class=\"dataframe\">\n",
       "  <thead>\n",
       "    <tr style=\"text-align: right;\">\n",
       "      <th></th>\n",
       "      <th>name</th>\n",
       "      <th>movie_count</th>\n",
       "    </tr>\n",
       "  </thead>\n",
       "  <tbody>\n",
       "    <tr>\n",
       "      <th>0</th>\n",
       "      <td>Michael Curtiz</td>\n",
       "      <td>99</td>\n",
       "    </tr>\n",
       "    <tr>\n",
       "      <th>1</th>\n",
       "      <td>Jesús Franco</td>\n",
       "      <td>91</td>\n",
       "    </tr>\n",
       "    <tr>\n",
       "      <th>2</th>\n",
       "      <td>Richard Thorpe</td>\n",
       "      <td>80</td>\n",
       "    </tr>\n",
       "    <tr>\n",
       "      <th>3</th>\n",
       "      <td>Lloyd Bacon</td>\n",
       "      <td>78</td>\n",
       "    </tr>\n",
       "    <tr>\n",
       "      <th>4</th>\n",
       "      <td>Lesley Selander</td>\n",
       "      <td>78</td>\n",
       "    </tr>\n",
       "    <tr>\n",
       "      <th>5</th>\n",
       "      <td>William Beaudine</td>\n",
       "      <td>75</td>\n",
       "    </tr>\n",
       "    <tr>\n",
       "      <th>6</th>\n",
       "      <td>John Ford</td>\n",
       "      <td>73</td>\n",
       "    </tr>\n",
       "    <tr>\n",
       "      <th>7</th>\n",
       "      <td>Raoul Walsh</td>\n",
       "      <td>71</td>\n",
       "    </tr>\n",
       "    <tr>\n",
       "      <th>8</th>\n",
       "      <td>Jing Wong</td>\n",
       "      <td>70</td>\n",
       "    </tr>\n",
       "    <tr>\n",
       "      <th>9</th>\n",
       "      <td>Gordon Douglas</td>\n",
       "      <td>69</td>\n",
       "    </tr>\n",
       "  </tbody>\n",
       "</table>\n",
       "</div>"
      ],
      "text/plain": [
       "               name  movie_count\n",
       "0    Michael Curtiz           99\n",
       "1      Jesús Franco           91\n",
       "2    Richard Thorpe           80\n",
       "3       Lloyd Bacon           78\n",
       "4   Lesley Selander           78\n",
       "5  William Beaudine           75\n",
       "6         John Ford           73\n",
       "7       Raoul Walsh           71\n",
       "8         Jing Wong           70\n",
       "9    Gordon Douglas           69"
      ]
     },
     "execution_count": 13,
     "metadata": {},
     "output_type": "execute_result"
    }
   ],
   "source": [
    "df7 = pd.read_sql_query('''Select B.name,A.movie_count from (Select imdb_name_id,Count(imdb_title_id) as movie_count from \n",
    "imdb_title_principals where category like '%director%' group by  imdb_name_id ) A inner join imdb_names B \n",
    "on A.imdb_name_id = B.imdb_name_id order by  A.movie_count desc Limit 10\n",
    "''',conn)\n",
    "fig, ax = plt.subplots(figsize = (16,6))\n",
    "sns.barplot(ax = ax, x = df7['name'], y = df7['movie_count'])\n",
    "ax.set_title('Director with most movies', fontsize = 18)\n",
    "ax.set_xlabel('Director')\n",
    "ax.set_ylabel('No. of Movies')\n",
    "#ax.set_ylim(9, 10)\n",
    "plt.show()\n",
    "df7"
   ]
  },
  {
   "cell_type": "code",
   "execution_count": 14,
   "metadata": {
    "execution": {
     "iopub.execute_input": "2021-12-12T13:22:12.216350Z",
     "iopub.status.busy": "2021-12-12T13:22:12.216047Z",
     "iopub.status.idle": "2021-12-12T13:22:13.258014Z",
     "shell.execute_reply": "2021-12-12T13:22:13.257196Z",
     "shell.execute_reply.started": "2021-12-12T13:22:12.216308Z"
    }
   },
   "outputs": [
    {
     "data": {
      "image/png": "[encoded data removed]",
      "text/plain": [
       "<Figure size 1152x432 with 1 Axes>"
      ]
     },
     "metadata": {},
     "output_type": "display_data"
    },
    {
     "data": {
      "text/html": [
       "<div>\n",
       "<style scoped>\n",
       "    .dataframe tbody tr th:only-of-type {\n",
       "        vertical-align: middle;\n",
       "    }\n",
       "\n",
       "    .dataframe tbody tr th {\n",
       "        vertical-align: top;\n",
       "    }\n",
       "\n",
       "    .dataframe thead th {\n",
       "        text-align: right;\n",
       "    }\n",
       "</style>\n",
       "<table border=\"1\" class=\"dataframe\">\n",
       "  <thead>\n",
       "    <tr style=\"text-align: right;\">\n",
       "      <th></th>\n",
       "      <th>name</th>\n",
       "      <th>weighted_average_vote</th>\n",
       "    </tr>\n",
       "  </thead>\n",
       "  <tbody>\n",
       "    <tr>\n",
       "      <th>0</th>\n",
       "      <td>Msn Surya</td>\n",
       "      <td>9.9</td>\n",
       "    </tr>\n",
       "    <tr>\n",
       "      <th>1</th>\n",
       "      <td>Sampath Rudra</td>\n",
       "      <td>9.8</td>\n",
       "    </tr>\n",
       "    <tr>\n",
       "      <th>2</th>\n",
       "      <td>Basheed S.K.</td>\n",
       "      <td>9.8</td>\n",
       "    </tr>\n",
       "    <tr>\n",
       "      <th>3</th>\n",
       "      <td>Abner Official</td>\n",
       "      <td>9.8</td>\n",
       "    </tr>\n",
       "    <tr>\n",
       "      <th>4</th>\n",
       "      <td>Aalmist Subba</td>\n",
       "      <td>9.8</td>\n",
       "    </tr>\n",
       "    <tr>\n",
       "      <th>5</th>\n",
       "      <td>Trinadh Velisila</td>\n",
       "      <td>9.7</td>\n",
       "    </tr>\n",
       "    <tr>\n",
       "      <th>6</th>\n",
       "      <td>Manoj Nair</td>\n",
       "      <td>9.7</td>\n",
       "    </tr>\n",
       "    <tr>\n",
       "      <th>7</th>\n",
       "      <td>Jose Thomas</td>\n",
       "      <td>9.5</td>\n",
       "    </tr>\n",
       "    <tr>\n",
       "      <th>8</th>\n",
       "      <td>Don Tjernagel</td>\n",
       "      <td>9.5</td>\n",
       "    </tr>\n",
       "    <tr>\n",
       "      <th>9</th>\n",
       "      <td>Zahir Raihan</td>\n",
       "      <td>9.4</td>\n",
       "    </tr>\n",
       "  </tbody>\n",
       "</table>\n",
       "</div>"
      ],
      "text/plain": [
       "               name  weighted_average_vote\n",
       "0         Msn Surya                    9.9\n",
       "1     Sampath Rudra                    9.8\n",
       "2      Basheed S.K.                    9.8\n",
       "3    Abner Official                    9.8\n",
       "4     Aalmist Subba                    9.8\n",
       "5  Trinadh Velisila                    9.7\n",
       "6        Manoj Nair                    9.7\n",
       "7       Jose Thomas                    9.5\n",
       "8     Don Tjernagel                    9.5\n",
       "9      Zahir Raihan                    9.4"
      ]
     },
     "execution_count": 14,
     "metadata": {},
     "output_type": "execute_result"
    }
   ],
   "source": [
    "df8 = pd.read_sql_query('''Select D.name,C.weighted_average_vote from (Select A.imdb_name_id,A.imdb_title_id,B.weighted_average_vote  from imdb_title_principals A \n",
    "inner join imdb_ratings B on A.imdb_title_id = B.imdb_title_id where A.category like '%director%' group by  imdb_name_id) C \n",
    "inner join imdb_names D on C.imdb_name_id = D.imdb_name_id group by D.name order by  C.weighted_average_vote desc Limit 10''',conn)\n",
    "fig, ax = plt.subplots(figsize = (16,6))\n",
    "sns.barplot(ax = ax, x = df8['name'], y = df8['weighted_average_vote'])\n",
    "ax.set_title('Director with highest average rating', fontsize = 18)\n",
    "ax.set_xlabel('Director')\n",
    "ax.set_ylabel('Movie rating')\n",
    "ax.set_ylim(9, 10)\n",
    "plt.show()\n",
    "df8"
   ]
  },
  {
   "cell_type": "code",
   "execution_count": 15,
   "metadata": {
    "execution": {
     "iopub.execute_input": "2021-12-12T13:22:13.259518Z",
     "iopub.status.busy": "2021-12-12T13:22:13.259276Z",
     "iopub.status.idle": "2021-12-12T13:22:15.521899Z",
     "shell.execute_reply": "2021-12-12T13:22:15.520877Z",
     "shell.execute_reply.started": "2021-12-12T13:22:13.259489Z"
    }
   },
   "outputs": [
    {
     "data": {
      "text/html": [
       "<div>\n",
       "<style scoped>\n",
       "    .dataframe tbody tr th:only-of-type {\n",
       "        vertical-align: middle;\n",
       "    }\n",
       "\n",
       "    .dataframe tbody tr th {\n",
       "        vertical-align: top;\n",
       "    }\n",
       "\n",
       "    .dataframe thead th {\n",
       "        text-align: right;\n",
       "    }\n",
       "</style>\n",
       "<table border=\"1\" class=\"dataframe\">\n",
       "  <thead>\n",
       "    <tr style=\"text-align: right;\">\n",
       "      <th></th>\n",
       "      <th>title</th>\n",
       "      <th>genre</th>\n",
       "      <th>director</th>\n",
       "      <th>actors</th>\n",
       "      <th>description</th>\n",
       "    </tr>\n",
       "  </thead>\n",
       "  <tbody>\n",
       "    <tr>\n",
       "      <th>0</th>\n",
       "      <td>Miss Jerry</td>\n",
       "      <td>Romance</td>\n",
       "      <td>Alexander Black</td>\n",
       "      <td>Blanche Bayliss, William Courtenay, Chauncey D...</td>\n",
       "      <td>The adventures of a female reporter in the 1890s.</td>\n",
       "    </tr>\n",
       "    <tr>\n",
       "      <th>1</th>\n",
       "      <td>The Story of the Kelly Gang</td>\n",
       "      <td>Biography, Crime, Drama</td>\n",
       "      <td>Charles Tait</td>\n",
       "      <td>Elizabeth Tait, John Tait, Norman Campbell, Be...</td>\n",
       "      <td>True story of notorious Australian outlaw Ned ...</td>\n",
       "    </tr>\n",
       "    <tr>\n",
       "      <th>2</th>\n",
       "      <td>Den sorte drøm</td>\n",
       "      <td>Drama</td>\n",
       "      <td>Urban Gad</td>\n",
       "      <td>Asta Nielsen, Valdemar Psilander, Gunnar Helse...</td>\n",
       "      <td>Two men of high rank are both wooing the beaut...</td>\n",
       "    </tr>\n",
       "    <tr>\n",
       "      <th>3</th>\n",
       "      <td>Cleopatra</td>\n",
       "      <td>Drama, History</td>\n",
       "      <td>Charles L. Gaskill</td>\n",
       "      <td>Helen Gardner, Pearl Sindelar, Miss Fielding, ...</td>\n",
       "      <td>The fabled queen of Egypt's affair with Roman ...</td>\n",
       "    </tr>\n",
       "    <tr>\n",
       "      <th>4</th>\n",
       "      <td>L'Inferno</td>\n",
       "      <td>Adventure, Drama, Fantasy</td>\n",
       "      <td>Francesco Bertolini, Adolfo Padovan</td>\n",
       "      <td>Salvatore Papa, Arturo Pirovano, Giuseppe de L...</td>\n",
       "      <td>Loosely adapted from Dante's Divine Comedy and...</td>\n",
       "    </tr>\n",
       "    <tr>\n",
       "      <th>...</th>\n",
       "      <td>...</td>\n",
       "      <td>...</td>\n",
       "      <td>...</td>\n",
       "      <td>...</td>\n",
       "      <td>...</td>\n",
       "    </tr>\n",
       "    <tr>\n",
       "      <th>85850</th>\n",
       "      <td>Le lion</td>\n",
       "      <td>Comedy</td>\n",
       "      <td>Ludovic Colbeau-Justin</td>\n",
       "      <td>Dany Boon, Philippe Katerine, Anne Serra, Samu...</td>\n",
       "      <td>A psychiatric hospital patient pretends to be ...</td>\n",
       "    </tr>\n",
       "    <tr>\n",
       "      <th>85851</th>\n",
       "      <td>De Beentjes van Sint-Hildegard</td>\n",
       "      <td>Comedy, Drama</td>\n",
       "      <td>Johan Nijenhuis</td>\n",
       "      <td>Herman Finkers, Johanna ter Steege, Leonie ter...</td>\n",
       "      <td>A middle-aged veterinary surgeon believes his ...</td>\n",
       "    </tr>\n",
       "    <tr>\n",
       "      <th>85852</th>\n",
       "      <td>Padmavyuhathile Abhimanyu</td>\n",
       "      <td>Drama</td>\n",
       "      <td>Vineesh Aaradya</td>\n",
       "      <td>Anoop Chandran, Indrans, Sona Nair, Simon Brit...</td>\n",
       "      <td>None</td>\n",
       "    </tr>\n",
       "    <tr>\n",
       "      <th>85853</th>\n",
       "      <td>Sokagin Çocuklari</td>\n",
       "      <td>Drama, Family</td>\n",
       "      <td>Ahmet Faik Akinci</td>\n",
       "      <td>Ahmet Faik Akinci, Belma Mamati, Metin Keçeci,...</td>\n",
       "      <td>None</td>\n",
       "    </tr>\n",
       "    <tr>\n",
       "      <th>85854</th>\n",
       "      <td>La vida sense la Sara Amat</td>\n",
       "      <td>Drama</td>\n",
       "      <td>Laura Jou</td>\n",
       "      <td>Maria Morera Colomer, Biel Rossell Pelfort, Is...</td>\n",
       "      <td>Pep, a 13-year-old boy, is in love with a girl...</td>\n",
       "    </tr>\n",
       "  </tbody>\n",
       "</table>\n",
       "<p>85855 rows × 5 columns</p>\n",
       "</div>"
      ],
      "text/plain": [
       "                                title                      genre  \\\n",
       "0                          Miss Jerry                    Romance   \n",
       "1         The Story of the Kelly Gang    Biography, Crime, Drama   \n",
       "2                      Den sorte drøm                      Drama   \n",
       "3                           Cleopatra             Drama, History   \n",
       "4                           L'Inferno  Adventure, Drama, Fantasy   \n",
       "...                               ...                        ...   \n",
       "85850                         Le lion                     Comedy   \n",
       "85851  De Beentjes van Sint-Hildegard              Comedy, Drama   \n",
       "85852       Padmavyuhathile Abhimanyu                      Drama   \n",
       "85853               Sokagin Çocuklari              Drama, Family   \n",
       "85854      La vida sense la Sara Amat                      Drama   \n",
       "\n",
       "                                  director  \\\n",
       "0                          Alexander Black   \n",
       "1                             Charles Tait   \n",
       "2                                Urban Gad   \n",
       "3                       Charles L. Gaskill   \n",
       "4      Francesco Bertolini, Adolfo Padovan   \n",
       "...                                    ...   \n",
       "85850               Ludovic Colbeau-Justin   \n",
       "85851                      Johan Nijenhuis   \n",
       "85852                      Vineesh Aaradya   \n",
       "85853                    Ahmet Faik Akinci   \n",
       "85854                            Laura Jou   \n",
       "\n",
       "                                                  actors  \\\n",
       "0      Blanche Bayliss, William Courtenay, Chauncey D...   \n",
       "1      Elizabeth Tait, John Tait, Norman Campbell, Be...   \n",
       "2      Asta Nielsen, Valdemar Psilander, Gunnar Helse...   \n",
       "3      Helen Gardner, Pearl Sindelar, Miss Fielding, ...   \n",
       "4      Salvatore Papa, Arturo Pirovano, Giuseppe de L...   \n",
       "...                                                  ...   \n",
       "85850  Dany Boon, Philippe Katerine, Anne Serra, Samu...   \n",
       "85851  Herman Finkers, Johanna ter Steege, Leonie ter...   \n",
       "85852  Anoop Chandran, Indrans, Sona Nair, Simon Brit...   \n",
       "85853  Ahmet Faik Akinci, Belma Mamati, Metin Keçeci,...   \n",
       "85854  Maria Morera Colomer, Biel Rossell Pelfort, Is...   \n",
       "\n",
       "                                             description  \n",
       "0      The adventures of a female reporter in the 1890s.  \n",
       "1      True story of notorious Australian outlaw Ned ...  \n",
       "2      Two men of high rank are both wooing the beaut...  \n",
       "3      The fabled queen of Egypt's affair with Roman ...  \n",
       "4      Loosely adapted from Dante's Divine Comedy and...  \n",
       "...                                                  ...  \n",
       "85850  A psychiatric hospital patient pretends to be ...  \n",
       "85851  A middle-aged veterinary surgeon believes his ...  \n",
       "85852                                               None  \n",
       "85853                                               None  \n",
       "85854  Pep, a 13-year-old boy, is in love with a girl...  \n",
       "\n",
       "[85855 rows x 5 columns]"
      ]
     },
     "execution_count": 15,
     "metadata": {},
     "output_type": "execute_result"
    }
   ],
   "source": [
    "pd.read_sql_query(' select distinct title, genre, director, actors, description from imdb_movies',conn)"
   ]
  },
  {
   "cell_type": "code",
   "execution_count": 9,
   "metadata": {
    "execution": {
     "iopub.execute_input": "2021-12-12T13:22:15.523959Z",
     "iopub.status.busy": "2021-12-12T13:22:15.523635Z",
     "iopub.status.idle": "2021-12-12T13:22:15.935295Z",
     "shell.execute_reply": "2021-12-12T13:22:15.934634Z",
     "shell.execute_reply.started": "2021-12-12T13:22:15.523914Z"
    }
   },
   "outputs": [
    {
     "data": {
      "image/png": "[encoded data removed]",
      "text/plain": [
       "<Figure size 1152x432 with 1 Axes>"
      ]
     },
     "metadata": {},
     "output_type": "display_data"
    },
    {
     "data": {
      "text/html": [
       "<div>\n",
       "<style scoped>\n",
       "    .dataframe tbody tr th:only-of-type {\n",
       "        vertical-align: middle;\n",
       "    }\n",
       "\n",
       "    .dataframe tbody tr th {\n",
       "        vertical-align: top;\n",
       "    }\n",
       "\n",
       "    .dataframe thead th {\n",
       "        text-align: right;\n",
       "    }\n",
       "</style>\n",
       "<table border=\"1\" class=\"dataframe\">\n",
       "  <thead>\n",
       "    <tr style=\"text-align: right;\">\n",
       "      <th></th>\n",
       "      <th>year</th>\n",
       "      <th>Max_Movie_Duration</th>\n",
       "    </tr>\n",
       "  </thead>\n",
       "  <tbody>\n",
       "    <tr>\n",
       "      <th>0</th>\n",
       "      <td>1894</td>\n",
       "      <td>45</td>\n",
       "    </tr>\n",
       "    <tr>\n",
       "      <th>1</th>\n",
       "      <td>1906</td>\n",
       "      <td>70</td>\n",
       "    </tr>\n",
       "    <tr>\n",
       "      <th>2</th>\n",
       "      <td>1911</td>\n",
       "      <td>100</td>\n",
       "    </tr>\n",
       "    <tr>\n",
       "      <th>3</th>\n",
       "      <td>1912</td>\n",
       "      <td>120</td>\n",
       "    </tr>\n",
       "    <tr>\n",
       "      <th>4</th>\n",
       "      <td>1913</td>\n",
       "      <td>124</td>\n",
       "    </tr>\n",
       "    <tr>\n",
       "      <th>...</th>\n",
       "      <td>...</td>\n",
       "      <td>...</td>\n",
       "    </tr>\n",
       "    <tr>\n",
       "      <th>108</th>\n",
       "      <td>2017</td>\n",
       "      <td>220</td>\n",
       "    </tr>\n",
       "    <tr>\n",
       "      <th>109</th>\n",
       "      <td>2018</td>\n",
       "      <td>234</td>\n",
       "    </tr>\n",
       "    <tr>\n",
       "      <th>110</th>\n",
       "      <td>2019</td>\n",
       "      <td>354</td>\n",
       "    </tr>\n",
       "    <tr>\n",
       "      <th>111</th>\n",
       "      <td>2020</td>\n",
       "      <td>570</td>\n",
       "    </tr>\n",
       "    <tr>\n",
       "      <th>112</th>\n",
       "      <td>TV Movie 2019</td>\n",
       "      <td>108</td>\n",
       "    </tr>\n",
       "  </tbody>\n",
       "</table>\n",
       "<p>113 rows × 2 columns</p>\n",
       "</div>"
      ],
      "text/plain": [
       "              year  Max_Movie_Duration\n",
       "0             1894                  45\n",
       "1             1906                  70\n",
       "2             1911                 100\n",
       "3             1912                 120\n",
       "4             1913                 124\n",
       "..             ...                 ...\n",
       "108           2017                 220\n",
       "109           2018                 234\n",
       "110           2019                 354\n",
       "111           2020                 570\n",
       "112  TV Movie 2019                 108\n",
       "\n",
       "[113 rows x 2 columns]"
      ]
     },
     "execution_count": 9,
     "metadata": {},
     "output_type": "execute_result"
    }
   ],
   "source": [
    "df9 = pd.read_sql_query('SELECT year,MAX(Duration) AS Max_Movie_Duration FROM IMDB_MOVIES GROUP BY year ',conn)\n",
    "fig, ax = plt.subplots(figsize = (16,6))\n",
    "sns.barplot(ax = ax, x = df9['year'][101:112], y = df9['Max_Movie_Duration'][101:112])\n",
    "ax.set_title('Maximum movie duration over the years', fontsize = 18)\n",
    "ax.set_xlabel('Year')\n",
    "ax.set_ylabel('Movie Duration')\n",
    "#ax.set_ylim(5, 6)\n",
    "plt.show()\n",
    "df9"
   ]
  },
  {
   "cell_type": "code",
   "execution_count": 13,
   "metadata": {
    "execution": {
     "iopub.execute_input": "2021-12-12T13:22:15.936955Z",
     "iopub.status.busy": "2021-12-12T13:22:15.936255Z",
     "iopub.status.idle": "2021-12-12T13:22:16.234563Z",
     "shell.execute_reply": "2021-12-12T13:22:16.233641Z",
     "shell.execute_reply.started": "2021-12-12T13:22:15.936921Z"
    }
   },
   "outputs": [
    {
     "data": {
      "image/png": "[encoded data removed]",
      "text/plain": [
       "<Figure size 1152x432 with 1 Axes>"
      ]
     },
     "metadata": {},
     "output_type": "display_data"
    },
    {
     "data": {
      "text/html": [
       "<div>\n",
       "<style scoped>\n",
       "    .dataframe tbody tr th:only-of-type {\n",
       "        vertical-align: middle;\n",
       "    }\n",
       "\n",
       "    .dataframe tbody tr th {\n",
       "        vertical-align: top;\n",
       "    }\n",
       "\n",
       "    .dataframe thead th {\n",
       "        text-align: right;\n",
       "    }\n",
       "</style>\n",
       "<table border=\"1\" class=\"dataframe\">\n",
       "  <thead>\n",
       "    <tr style=\"text-align: right;\">\n",
       "      <th></th>\n",
       "      <th>year</th>\n",
       "      <th>movie_count</th>\n",
       "    </tr>\n",
       "  </thead>\n",
       "  <tbody>\n",
       "    <tr>\n",
       "      <th>0</th>\n",
       "      <td>1914</td>\n",
       "      <td>2</td>\n",
       "    </tr>\n",
       "    <tr>\n",
       "      <th>1</th>\n",
       "      <td>1915</td>\n",
       "      <td>1</td>\n",
       "    </tr>\n",
       "    <tr>\n",
       "      <th>2</th>\n",
       "      <td>1916</td>\n",
       "      <td>8</td>\n",
       "    </tr>\n",
       "    <tr>\n",
       "      <th>3</th>\n",
       "      <td>1918</td>\n",
       "      <td>1</td>\n",
       "    </tr>\n",
       "    <tr>\n",
       "      <th>4</th>\n",
       "      <td>1919</td>\n",
       "      <td>2</td>\n",
       "    </tr>\n",
       "    <tr>\n",
       "      <th>...</th>\n",
       "      <td>...</td>\n",
       "      <td>...</td>\n",
       "    </tr>\n",
       "    <tr>\n",
       "      <th>101</th>\n",
       "      <td>2016</td>\n",
       "      <td>516</td>\n",
       "    </tr>\n",
       "    <tr>\n",
       "      <th>102</th>\n",
       "      <td>2017</td>\n",
       "      <td>524</td>\n",
       "    </tr>\n",
       "    <tr>\n",
       "      <th>103</th>\n",
       "      <td>2018</td>\n",
       "      <td>493</td>\n",
       "    </tr>\n",
       "    <tr>\n",
       "      <th>104</th>\n",
       "      <td>2019</td>\n",
       "      <td>460</td>\n",
       "    </tr>\n",
       "    <tr>\n",
       "      <th>105</th>\n",
       "      <td>2020</td>\n",
       "      <td>142</td>\n",
       "    </tr>\n",
       "  </tbody>\n",
       "</table>\n",
       "<p>106 rows × 2 columns</p>\n",
       "</div>"
      ],
      "text/plain": [
       "     year  movie_count\n",
       "0    1914            2\n",
       "1    1915            1\n",
       "2    1916            8\n",
       "3    1918            1\n",
       "4    1919            2\n",
       "..    ...          ...\n",
       "101  2016          516\n",
       "102  2017          524\n",
       "103  2018          493\n",
       "104  2019          460\n",
       "105  2020          142\n",
       "\n",
       "[106 rows x 2 columns]"
      ]
     },
     "execution_count": 13,
     "metadata": {},
     "output_type": "execute_result"
    }
   ],
   "source": [
    "df10 = pd.read_sql_query('''SELECT year, count(imdb_title_id) as movie_count FROM IMDB_MOVIES WHERE genre like '%Action%' GROUP BY YEAR ORDER BY YEAR''',conn)\n",
    "fig, ax = plt.subplots(figsize = (16,6))\n",
    "sns.barplot(ax = ax, x = df10['year'][101:112], y = df10['movie_count'][101:112])\n",
    "ax.set_title('No of Action movies over the years', fontsize = 18)\n",
    "ax.set_xlabel('Year')\n",
    "ax.set_ylabel('No. of Movies')\n",
    "#ax.set_ylim(5, 6)\n",
    "plt.show()\n",
    "df10"
   ]
  },
  {
   "cell_type": "code",
   "execution_count": 18,
   "metadata": {
    "execution": {
     "iopub.execute_input": "2021-12-12T13:22:16.237103Z",
     "iopub.status.busy": "2021-12-12T13:22:16.236090Z",
     "iopub.status.idle": "2021-12-12T13:22:16.548797Z",
     "shell.execute_reply": "2021-12-12T13:22:16.547881Z",
     "shell.execute_reply.started": "2021-12-12T13:22:16.237059Z"
    }
   },
   "outputs": [
    {
     "data": {
      "image/png": "[encoded data removed]",
      "text/plain": [
       "<Figure size 1152x432 with 1 Axes>"
      ]
     },
     "metadata": {},
     "output_type": "display_data"
    },
    {
     "data": {
      "text/html": [
       "<div>\n",
       "<style scoped>\n",
       "    .dataframe tbody tr th:only-of-type {\n",
       "        vertical-align: middle;\n",
       "    }\n",
       "\n",
       "    .dataframe tbody tr th {\n",
       "        vertical-align: top;\n",
       "    }\n",
       "\n",
       "    .dataframe thead th {\n",
       "        text-align: right;\n",
       "    }\n",
       "</style>\n",
       "<table border=\"1\" class=\"dataframe\">\n",
       "  <thead>\n",
       "    <tr style=\"text-align: right;\">\n",
       "      <th></th>\n",
       "      <th>year</th>\n",
       "      <th>movie_count</th>\n",
       "    </tr>\n",
       "  </thead>\n",
       "  <tbody>\n",
       "    <tr>\n",
       "      <th>0</th>\n",
       "      <td>1894</td>\n",
       "      <td>1</td>\n",
       "    </tr>\n",
       "    <tr>\n",
       "      <th>1</th>\n",
       "      <td>1914</td>\n",
       "      <td>2</td>\n",
       "    </tr>\n",
       "    <tr>\n",
       "      <th>2</th>\n",
       "      <td>1915</td>\n",
       "      <td>1</td>\n",
       "    </tr>\n",
       "    <tr>\n",
       "      <th>3</th>\n",
       "      <td>1916</td>\n",
       "      <td>7</td>\n",
       "    </tr>\n",
       "    <tr>\n",
       "      <th>4</th>\n",
       "      <td>1917</td>\n",
       "      <td>4</td>\n",
       "    </tr>\n",
       "    <tr>\n",
       "      <th>...</th>\n",
       "      <td>...</td>\n",
       "      <td>...</td>\n",
       "    </tr>\n",
       "    <tr>\n",
       "      <th>103</th>\n",
       "      <td>2016</td>\n",
       "      <td>423</td>\n",
       "    </tr>\n",
       "    <tr>\n",
       "      <th>104</th>\n",
       "      <td>2017</td>\n",
       "      <td>410</td>\n",
       "    </tr>\n",
       "    <tr>\n",
       "      <th>105</th>\n",
       "      <td>2018</td>\n",
       "      <td>392</td>\n",
       "    </tr>\n",
       "    <tr>\n",
       "      <th>106</th>\n",
       "      <td>2019</td>\n",
       "      <td>312</td>\n",
       "    </tr>\n",
       "    <tr>\n",
       "      <th>107</th>\n",
       "      <td>2020</td>\n",
       "      <td>95</td>\n",
       "    </tr>\n",
       "  </tbody>\n",
       "</table>\n",
       "<p>108 rows × 2 columns</p>\n",
       "</div>"
      ],
      "text/plain": [
       "     year  movie_count\n",
       "0    1894            1\n",
       "1    1914            2\n",
       "2    1915            1\n",
       "3    1916            7\n",
       "4    1917            4\n",
       "..    ...          ...\n",
       "103  2016          423\n",
       "104  2017          410\n",
       "105  2018          392\n",
       "106  2019          312\n",
       "107  2020           95\n",
       "\n",
       "[108 rows x 2 columns]"
      ]
     },
     "execution_count": 18,
     "metadata": {},
     "output_type": "execute_result"
    }
   ],
   "source": [
    "df11 = pd.read_sql_query('''SELECT year, count(imdb_title_id) as movie_count FROM IMDB_MOVIES WHERE genre like '%Romance%' GROUP BY YEAR ORDER BY YEAR''',conn)\n",
    "fig, ax = plt.subplots(figsize = (16,6))\n",
    "sns.barplot(ax = ax, x = df11['year'][101:112], y = df11['movie_count'][101:112])\n",
    "ax.set_title('No of Romance movies over the years', fontsize = 18)\n",
    "ax.set_xlabel('Year')\n",
    "ax.set_ylabel('No. of Movies')\n",
    "#ax.set_ylim(5, 6)\n",
    "plt.show()\n",
    "df11"
   ]
  },
  {
   "cell_type": "code",
   "execution_count": 19,
   "metadata": {
    "execution": {
     "iopub.execute_input": "2021-12-12T13:22:16.550518Z",
     "iopub.status.busy": "2021-12-12T13:22:16.550302Z",
     "iopub.status.idle": "2021-12-12T13:22:16.886676Z",
     "shell.execute_reply": "2021-12-12T13:22:16.885799Z",
     "shell.execute_reply.started": "2021-12-12T13:22:16.550492Z"
    }
   },
   "outputs": [
    {
     "data": {
      "image/png": "[encoded data removed]",
      "text/plain": [
       "<Figure size 1152x432 with 1 Axes>"
      ]
     },
     "metadata": {},
     "output_type": "display_data"
    },
    {
     "data": {
      "text/html": [
       "<div>\n",
       "<style scoped>\n",
       "    .dataframe tbody tr th:only-of-type {\n",
       "        vertical-align: middle;\n",
       "    }\n",
       "\n",
       "    .dataframe tbody tr th {\n",
       "        vertical-align: top;\n",
       "    }\n",
       "\n",
       "    .dataframe thead th {\n",
       "        text-align: right;\n",
       "    }\n",
       "</style>\n",
       "<table border=\"1\" class=\"dataframe\">\n",
       "  <thead>\n",
       "    <tr style=\"text-align: right;\">\n",
       "      <th></th>\n",
       "      <th>year</th>\n",
       "      <th>movie_count</th>\n",
       "    </tr>\n",
       "  </thead>\n",
       "  <tbody>\n",
       "    <tr>\n",
       "      <th>0</th>\n",
       "      <td>1913</td>\n",
       "      <td>1</td>\n",
       "    </tr>\n",
       "    <tr>\n",
       "      <th>1</th>\n",
       "      <td>1914</td>\n",
       "      <td>3</td>\n",
       "    </tr>\n",
       "    <tr>\n",
       "      <th>2</th>\n",
       "      <td>1915</td>\n",
       "      <td>1</td>\n",
       "    </tr>\n",
       "    <tr>\n",
       "      <th>3</th>\n",
       "      <td>1916</td>\n",
       "      <td>8</td>\n",
       "    </tr>\n",
       "    <tr>\n",
       "      <th>4</th>\n",
       "      <td>1917</td>\n",
       "      <td>10</td>\n",
       "    </tr>\n",
       "    <tr>\n",
       "      <th>...</th>\n",
       "      <td>...</td>\n",
       "      <td>...</td>\n",
       "    </tr>\n",
       "    <tr>\n",
       "      <th>104</th>\n",
       "      <td>2017</td>\n",
       "      <td>1040</td>\n",
       "    </tr>\n",
       "    <tr>\n",
       "      <th>105</th>\n",
       "      <td>2018</td>\n",
       "      <td>1035</td>\n",
       "    </tr>\n",
       "    <tr>\n",
       "      <th>106</th>\n",
       "      <td>2019</td>\n",
       "      <td>870</td>\n",
       "    </tr>\n",
       "    <tr>\n",
       "      <th>107</th>\n",
       "      <td>2020</td>\n",
       "      <td>238</td>\n",
       "    </tr>\n",
       "    <tr>\n",
       "      <th>108</th>\n",
       "      <td>TV Movie 2019</td>\n",
       "      <td>1</td>\n",
       "    </tr>\n",
       "  </tbody>\n",
       "</table>\n",
       "<p>109 rows × 2 columns</p>\n",
       "</div>"
      ],
      "text/plain": [
       "              year  movie_count\n",
       "0             1913            1\n",
       "1             1914            3\n",
       "2             1915            1\n",
       "3             1916            8\n",
       "4             1917           10\n",
       "..             ...          ...\n",
       "104           2017         1040\n",
       "105           2018         1035\n",
       "106           2019          870\n",
       "107           2020          238\n",
       "108  TV Movie 2019            1\n",
       "\n",
       "[109 rows x 2 columns]"
      ]
     },
     "execution_count": 19,
     "metadata": {},
     "output_type": "execute_result"
    }
   ],
   "source": [
    "df12 = pd.read_sql_query('''SELECT year, count(imdb_title_id) as movie_count FROM IMDB_MOVIES WHERE genre like '%Comedy%' GROUP BY YEAR ORDER BY YEAR''',conn)\n",
    "fig, ax = plt.subplots(figsize = (16,6))\n",
    "sns.barplot(ax = ax, x = df12['year'][101:111], y = df12['movie_count'][101:111])\n",
    "ax.set_title('No of Comedy movies over the years', fontsize = 18)\n",
    "ax.set_xlabel('Year')\n",
    "ax.set_ylabel('No. of Movies')\n",
    "#ax.set_ylim(5, 6)\n",
    "plt.show()\n",
    "df12"
   ]
  },
  {
   "cell_type": "code",
   "execution_count": 20,
   "metadata": {
    "execution": {
     "iopub.execute_input": "2021-12-12T13:22:16.888220Z",
     "iopub.status.busy": "2021-12-12T13:22:16.888011Z",
     "iopub.status.idle": "2021-12-12T13:22:17.258457Z",
     "shell.execute_reply": "2021-12-12T13:22:17.257778Z",
     "shell.execute_reply.started": "2021-12-12T13:22:16.888195Z"
    }
   },
   "outputs": [
    {
     "data": {
      "image/png": "[encoded data removed]",
      "text/plain": [
       "<Figure size 1152x432 with 1 Axes>"
      ]
     },
     "metadata": {},
     "output_type": "display_data"
    },
    {
     "data": {
      "text/html": [
       "<div>\n",
       "<style scoped>\n",
       "    .dataframe tbody tr th:only-of-type {\n",
       "        vertical-align: middle;\n",
       "    }\n",
       "\n",
       "    .dataframe tbody tr th {\n",
       "        vertical-align: top;\n",
       "    }\n",
       "\n",
       "    .dataframe thead th {\n",
       "        text-align: right;\n",
       "    }\n",
       "</style>\n",
       "<table border=\"1\" class=\"dataframe\">\n",
       "  <thead>\n",
       "    <tr style=\"text-align: right;\">\n",
       "      <th></th>\n",
       "      <th>year</th>\n",
       "      <th>movie_count</th>\n",
       "    </tr>\n",
       "  </thead>\n",
       "  <tbody>\n",
       "    <tr>\n",
       "      <th>0</th>\n",
       "      <td>1906</td>\n",
       "      <td>1</td>\n",
       "    </tr>\n",
       "    <tr>\n",
       "      <th>1</th>\n",
       "      <td>1911</td>\n",
       "      <td>3</td>\n",
       "    </tr>\n",
       "    <tr>\n",
       "      <th>2</th>\n",
       "      <td>1912</td>\n",
       "      <td>4</td>\n",
       "    </tr>\n",
       "    <tr>\n",
       "      <th>3</th>\n",
       "      <td>1913</td>\n",
       "      <td>11</td>\n",
       "    </tr>\n",
       "    <tr>\n",
       "      <th>4</th>\n",
       "      <td>1914</td>\n",
       "      <td>16</td>\n",
       "    </tr>\n",
       "    <tr>\n",
       "      <th>...</th>\n",
       "      <td>...</td>\n",
       "      <td>...</td>\n",
       "    </tr>\n",
       "    <tr>\n",
       "      <th>106</th>\n",
       "      <td>2016</td>\n",
       "      <td>1707</td>\n",
       "    </tr>\n",
       "    <tr>\n",
       "      <th>107</th>\n",
       "      <td>2017</td>\n",
       "      <td>1812</td>\n",
       "    </tr>\n",
       "    <tr>\n",
       "      <th>108</th>\n",
       "      <td>2018</td>\n",
       "      <td>1708</td>\n",
       "    </tr>\n",
       "    <tr>\n",
       "      <th>109</th>\n",
       "      <td>2019</td>\n",
       "      <td>1530</td>\n",
       "    </tr>\n",
       "    <tr>\n",
       "      <th>110</th>\n",
       "      <td>2020</td>\n",
       "      <td>360</td>\n",
       "    </tr>\n",
       "  </tbody>\n",
       "</table>\n",
       "<p>111 rows × 2 columns</p>\n",
       "</div>"
      ],
      "text/plain": [
       "     year  movie_count\n",
       "0    1906            1\n",
       "1    1911            3\n",
       "2    1912            4\n",
       "3    1913           11\n",
       "4    1914           16\n",
       "..    ...          ...\n",
       "106  2016         1707\n",
       "107  2017         1812\n",
       "108  2018         1708\n",
       "109  2019         1530\n",
       "110  2020          360\n",
       "\n",
       "[111 rows x 2 columns]"
      ]
     },
     "execution_count": 20,
     "metadata": {},
     "output_type": "execute_result"
    }
   ],
   "source": [
    "df13 = pd.read_sql_query('''SELECT year, count(imdb_title_id) as movie_count FROM IMDB_MOVIES WHERE genre like '%Drama%' GROUP BY YEAR ORDER BY YEAR''',conn)\n",
    "fig, ax = plt.subplots(figsize = (16,6))\n",
    "sns.barplot(ax = ax, x = df13['year'][101:112], y = df13['movie_count'][101:112])\n",
    "ax.set_title('No of Drama movies over the years', fontsize = 18)\n",
    "ax.set_xlabel('Year')\n",
    "ax.set_ylabel('No. of Movies')\n",
    "#ax.set_ylim(5, 6)\n",
    "plt.show()\n",
    "df13"
   ]
  },
  {
   "cell_type": "code",
   "execution_count": 21,
   "metadata": {
    "execution": {
     "iopub.execute_input": "2021-12-12T13:22:17.259766Z",
     "iopub.status.busy": "2021-12-12T13:22:17.259543Z",
     "iopub.status.idle": "2021-12-12T13:22:17.577190Z",
     "shell.execute_reply": "2021-12-12T13:22:17.576265Z",
     "shell.execute_reply.started": "2021-12-12T13:22:17.259740Z"
    }
   },
   "outputs": [
    {
     "data": {
      "image/png": "[encoded data removed]",
      "text/plain": [
       "<Figure size 1152x432 with 1 Axes>"
      ]
     },
     "metadata": {},
     "output_type": "display_data"
    },
    {
     "data": {
      "text/html": [
       "<div>\n",
       "<style scoped>\n",
       "    .dataframe tbody tr th:only-of-type {\n",
       "        vertical-align: middle;\n",
       "    }\n",
       "\n",
       "    .dataframe tbody tr th {\n",
       "        vertical-align: top;\n",
       "    }\n",
       "\n",
       "    .dataframe thead th {\n",
       "        text-align: right;\n",
       "    }\n",
       "</style>\n",
       "<table border=\"1\" class=\"dataframe\">\n",
       "  <thead>\n",
       "    <tr style=\"text-align: right;\">\n",
       "      <th></th>\n",
       "      <th>year</th>\n",
       "      <th>movie_count</th>\n",
       "    </tr>\n",
       "  </thead>\n",
       "  <tbody>\n",
       "    <tr>\n",
       "      <th>0</th>\n",
       "      <td>1913</td>\n",
       "      <td>1</td>\n",
       "    </tr>\n",
       "    <tr>\n",
       "      <th>1</th>\n",
       "      <td>1914</td>\n",
       "      <td>1</td>\n",
       "    </tr>\n",
       "    <tr>\n",
       "      <th>2</th>\n",
       "      <td>1915</td>\n",
       "      <td>1</td>\n",
       "    </tr>\n",
       "    <tr>\n",
       "      <th>3</th>\n",
       "      <td>1916</td>\n",
       "      <td>2</td>\n",
       "    </tr>\n",
       "    <tr>\n",
       "      <th>4</th>\n",
       "      <td>1917</td>\n",
       "      <td>2</td>\n",
       "    </tr>\n",
       "    <tr>\n",
       "      <th>...</th>\n",
       "      <td>...</td>\n",
       "      <td>...</td>\n",
       "    </tr>\n",
       "    <tr>\n",
       "      <th>103</th>\n",
       "      <td>2016</td>\n",
       "      <td>452</td>\n",
       "    </tr>\n",
       "    <tr>\n",
       "      <th>104</th>\n",
       "      <td>2017</td>\n",
       "      <td>497</td>\n",
       "    </tr>\n",
       "    <tr>\n",
       "      <th>105</th>\n",
       "      <td>2018</td>\n",
       "      <td>476</td>\n",
       "    </tr>\n",
       "    <tr>\n",
       "      <th>106</th>\n",
       "      <td>2019</td>\n",
       "      <td>383</td>\n",
       "    </tr>\n",
       "    <tr>\n",
       "      <th>107</th>\n",
       "      <td>2020</td>\n",
       "      <td>116</td>\n",
       "    </tr>\n",
       "  </tbody>\n",
       "</table>\n",
       "<p>108 rows × 2 columns</p>\n",
       "</div>"
      ],
      "text/plain": [
       "     year  movie_count\n",
       "0    1913            1\n",
       "1    1914            1\n",
       "2    1915            1\n",
       "3    1916            2\n",
       "4    1917            2\n",
       "..    ...          ...\n",
       "103  2016          452\n",
       "104  2017          497\n",
       "105  2018          476\n",
       "106  2019          383\n",
       "107  2020          116\n",
       "\n",
       "[108 rows x 2 columns]"
      ]
     },
     "execution_count": 21,
     "metadata": {},
     "output_type": "execute_result"
    }
   ],
   "source": [
    "df14 = pd.read_sql_query('''SELECT year, count(imdb_title_id) as movie_count FROM IMDB_MOVIES WHERE genre like '%Horror%' GROUP BY YEAR ORDER BY YEAR''',conn)\n",
    "fig, ax = plt.subplots(figsize = (16,6))\n",
    "sns.barplot(ax = ax, x = df14['year'][101:112], y = df14['movie_count'][101:112])\n",
    "ax.set_title('No of Horror movies over the years', fontsize = 18)\n",
    "ax.set_xlabel('Year')\n",
    "ax.set_ylabel('No. of Movies')\n",
    "#ax.set_ylim(5, 6)\n",
    "plt.show()\n",
    "df14"
   ]
  },
  {
   "cell_type": "code",
   "execution_count": 14,
   "metadata": {
    "execution": {
     "iopub.execute_input": "2021-12-12T13:22:17.580139Z",
     "iopub.status.busy": "2021-12-12T13:22:17.579834Z",
     "iopub.status.idle": "2021-12-12T13:22:18.791950Z",
     "shell.execute_reply": "2021-12-12T13:22:18.791018Z",
     "shell.execute_reply.started": "2021-12-12T13:22:17.580107Z"
    }
   },
   "outputs": [],
   "source": [
    "import plotly.express as px\n",
    "\n"
   ]
  },
  {
   "cell_type": "code",
   "execution_count": 19,
   "metadata": {
    "execution": {
     "iopub.execute_input": "2021-12-12T13:22:18.793927Z",
     "iopub.status.busy": "2021-12-12T13:22:18.792972Z",
     "iopub.status.idle": "2021-12-12T13:22:20.136102Z",
     "shell.execute_reply": "2021-12-12T13:22:20.135367Z",
     "shell.execute_reply.started": "2021-12-12T13:22:18.793893Z"
    }
   },
   "outputs": [
    {
     "data": {
      "text/html": [
       "<div>\n",
       "<style scoped>\n",
       "    .dataframe tbody tr th:only-of-type {\n",
       "        vertical-align: middle;\n",
       "    }\n",
       "\n",
       "    .dataframe tbody tr th {\n",
       "        vertical-align: top;\n",
       "    }\n",
       "\n",
       "    .dataframe thead th {\n",
       "        text-align: right;\n",
       "    }\n",
       "</style>\n",
       "<table border=\"1\" class=\"dataframe\">\n",
       "  <thead>\n",
       "    <tr style=\"text-align: right;\">\n",
       "      <th></th>\n",
       "      <th>country</th>\n",
       "      <th>movie_count</th>\n",
       "    </tr>\n",
       "  </thead>\n",
       "  <tbody>\n",
       "    <tr>\n",
       "      <th>0</th>\n",
       "      <td>USA</td>\n",
       "      <td>28511</td>\n",
       "    </tr>\n",
       "    <tr>\n",
       "      <th>1</th>\n",
       "      <td>India</td>\n",
       "      <td>6065</td>\n",
       "    </tr>\n",
       "    <tr>\n",
       "      <th>2</th>\n",
       "      <td>UK</td>\n",
       "      <td>4111</td>\n",
       "    </tr>\n",
       "    <tr>\n",
       "      <th>3</th>\n",
       "      <td>Japan</td>\n",
       "      <td>3077</td>\n",
       "    </tr>\n",
       "    <tr>\n",
       "      <th>4</th>\n",
       "      <td>France</td>\n",
       "      <td>3055</td>\n",
       "    </tr>\n",
       "    <tr>\n",
       "      <th>5</th>\n",
       "      <td>Italy</td>\n",
       "      <td>2444</td>\n",
       "    </tr>\n",
       "    <tr>\n",
       "      <th>6</th>\n",
       "      <td>Canada</td>\n",
       "      <td>1802</td>\n",
       "    </tr>\n",
       "    <tr>\n",
       "      <th>7</th>\n",
       "      <td>Germany</td>\n",
       "      <td>1396</td>\n",
       "    </tr>\n",
       "    <tr>\n",
       "      <th>8</th>\n",
       "      <td>Turkey</td>\n",
       "      <td>1351</td>\n",
       "    </tr>\n",
       "    <tr>\n",
       "      <th>9</th>\n",
       "      <td>Hong Kong</td>\n",
       "      <td>1239</td>\n",
       "    </tr>\n",
       "  </tbody>\n",
       "</table>\n",
       "</div>"
      ],
      "text/plain": [
       "     country  movie_count\n",
       "0        USA        28511\n",
       "1      India         6065\n",
       "2         UK         4111\n",
       "3      Japan         3077\n",
       "4     France         3055\n",
       "5      Italy         2444\n",
       "6     Canada         1802\n",
       "7    Germany         1396\n",
       "8     Turkey         1351\n",
       "9  Hong Kong         1239"
      ]
     },
     "metadata": {},
     "output_type": "display_data"
    },
    {
     "data": {
      "application/vnd.plotly.v1+json": {
       "config": {
        "plotlyServerURL": "https://plot.ly"
       },
       "data": [
        {
         "coloraxis": "coloraxis",
         "geo": "geo",
         "hovertemplate": "country=%{location}<br>movie_count=%{z}<extra></extra>",
         "locationmode": "country names",
         "locations": [
          "USA",
          "India",
          "UK",
          "Japan",
          "France",
          "Italy",
          "Canada",
          "Germany",
          "Turkey",
          "Hong Kong"
         ],
         "name": "",
         "type": "choropleth",
         "z": [
          28511,
          6065,
          4111,
          3077,
          3055,
          2444,
          1802,
          1396,
          1351,
          1239
         ]
        }
       ],
       "layout": {
        "coloraxis": {
         "colorbar": {
          "title": {
           "text": "movie_count"
          }
         },
         "colorscale": [
          [
           0,
           "#0d0887"
          ],
          [
           0.1111111111111111,
           "#46039f"
          ],
          [
           0.2222222222222222,
           "#7201a8"
          ],
          [
           0.3333333333333333,
           "#9c179e"
          ],
          [
           0.4444444444444444,
           "#bd3786"
          ],
          [
           0.5555555555555556,
           "#d8576b"
          ],
          [
           0.6666666666666666,
           "#ed7953"
          ],
          [
           0.7777777777777778,
           "#fb9f3a"
          ],
          [
           0.8888888888888888,
           "#fdca26"
          ],
          [
           1,
           "#f0f921"
          ]
         ]
        },
        "geo": {
         "center": {},
         "domain": {
          "x": [
           0,
           1
          ],
          "y": [
           0,
           1
          ]
         }
        },
        "legend": {
         "tracegroupgap": 0
        },
        "template": {
         "data": {
          "bar": [
           {
            "error_x": {
             "color": "#2a3f5f"
            },
            "error_y": {
             "color": "#2a3f5f"
            },
            "marker": {
             "line": {
              "color": "#E5ECF6",
              "width": 0.5
             },
             "pattern": {
              "fillmode": "overlay",
              "size": 10,
              "solidity": 0.2
             }
            },
            "type": "bar"
           }
          ],
          "barpolar": [
           {
            "marker": {
             "line": {
              "color": "#E5ECF6",
              "width": 0.5
             },
             "pattern": {
              "fillmode": "overlay",
              "size": 10,
              "solidity": 0.2
             }
            },
            "type": "barpolar"
           }
          ],
          "carpet": [
           {
            "aaxis": {
             "endlinecolor": "#2a3f5f",
             "gridcolor": "white",
             "linecolor": "white",
             "minorgridcolor": "white",
             "startlinecolor": "#2a3f5f"
            },
            "baxis": {
             "endlinecolor": "#2a3f5f",
             "gridcolor": "white",
             "linecolor": "white",
             "minorgridcolor": "white",
             "startlinecolor": "#2a3f5f"
            },
            "type": "carpet"
           }
          ],
          "choropleth": [
           {
            "colorbar": {
             "outlinewidth": 0,
             "ticks": ""
            },
            "type": "choropleth"
           }
          ],
          "contour": [
           {
            "colorbar": {
             "outlinewidth": 0,
             "ticks": ""
            },
            "colorscale": [
             [
              0,
              "#0d0887"
             ],
             [
              0.1111111111111111,
              "#46039f"
             ],
             [
              0.2222222222222222,
              "#7201a8"
             ],
             [
              0.3333333333333333,
              "#9c179e"
             ],
             [
              0.4444444444444444,
              "#bd3786"
             ],
             [
              0.5555555555555556,
              "#d8576b"
             ],
             [
              0.6666666666666666,
              "#ed7953"
             ],
             [
              0.7777777777777778,
              "#fb9f3a"
             ],
             [
              0.8888888888888888,
              "#fdca26"
             ],
             [
              1,
              "#f0f921"
             ]
            ],
            "type": "contour"
           }
          ],
          "contourcarpet": [
           {
            "colorbar": {
             "outlinewidth": 0,
             "ticks": ""
            },
            "type": "contourcarpet"
           }
          ],
          "heatmap": [
           {
            "colorbar": {
             "outlinewidth": 0,
             "ticks": ""
            },
            "colorscale": [
             [
              0,
              "#0d0887"
             ],
             [
              0.1111111111111111,
              "#46039f"
             ],
             [
              0.2222222222222222,
              "#7201a8"
             ],
             [
              0.3333333333333333,
              "#9c179e"
             ],
             [
              0.4444444444444444,
              "#bd3786"
             ],
             [
              0.5555555555555556,
              "#d8576b"
             ],
             [
              0.6666666666666666,
              "#ed7953"
             ],
             [
              0.7777777777777778,
              "#fb9f3a"
             ],
             [
              0.8888888888888888,
              "#fdca26"
             ],
             [
              1,
              "#f0f921"
             ]
            ],
            "type": "heatmap"
           }
          ],
          "heatmapgl": [
           {
            "colorbar": {
             "outlinewidth": 0,
             "ticks": ""
            },
            "colorscale": [
             [
              0,
              "#0d0887"
             ],
             [
              0.1111111111111111,
              "#46039f"
             ],
             [
              0.2222222222222222,
              "#7201a8"
             ],
             [
              0.3333333333333333,
              "#9c179e"
             ],
             [
              0.4444444444444444,
              "#bd3786"
             ],
             [
              0.5555555555555556,
              "#d8576b"
             ],
             [
              0.6666666666666666,
              "#ed7953"
             ],
             [
              0.7777777777777778,
              "#fb9f3a"
             ],
             [
              0.8888888888888888,
              "#fdca26"
             ],
             [
              1,
              "#f0f921"
             ]
            ],
            "type": "heatmapgl"
           }
          ],
          "histogram": [
           {
            "marker": {
             "pattern": {
              "fillmode": "overlay",
              "size": 10,
              "solidity": 0.2
             }
            },
            "type": "histogram"
           }
          ],
          "histogram2d": [
           {
            "colorbar": {
             "outlinewidth": 0,
             "ticks": ""
            },
            "colorscale": [
             [
              0,
              "#0d0887"
             ],
             [
              0.1111111111111111,
              "#46039f"
             ],
             [
              0.2222222222222222,
              "#7201a8"
             ],
             [
              0.3333333333333333,
              "#9c179e"
             ],
             [
              0.4444444444444444,
              "#bd3786"
             ],
             [
              0.5555555555555556,
              "#d8576b"
             ],
             [
              0.6666666666666666,
              "#ed7953"
             ],
             [
              0.7777777777777778,
              "#fb9f3a"
             ],
             [
              0.8888888888888888,
              "#fdca26"
             ],
             [
              1,
              "#f0f921"
             ]
            ],
            "type": "histogram2d"
           }
          ],
          "histogram2dcontour": [
           {
            "colorbar": {
             "outlinewidth": 0,
             "ticks": ""
            },
            "colorscale": [
             [
              0,
              "#0d0887"
             ],
             [
              0.1111111111111111,
              "#46039f"
             ],
             [
              0.2222222222222222,
              "#7201a8"
             ],
             [
              0.3333333333333333,
              "#9c179e"
             ],
             [
              0.4444444444444444,
              "#bd3786"
             ],
             [
              0.5555555555555556,
              "#d8576b"
             ],
             [
              0.6666666666666666,
              "#ed7953"
             ],
             [
              0.7777777777777778,
              "#fb9f3a"
             ],
             [
              0.8888888888888888,
              "#fdca26"
             ],
             [
              1,
              "#f0f921"
             ]
            ],
            "type": "histogram2dcontour"
           }
          ],
          "mesh3d": [
           {
            "colorbar": {
             "outlinewidth": 0,
             "ticks": ""
            },
            "type": "mesh3d"
           }
          ],
          "parcoords": [
           {
            "line": {
             "colorbar": {
              "outlinewidth": 0,
              "ticks": ""
             }
            },
            "type": "parcoords"
           }
          ],
          "pie": [
           {
            "automargin": true,
            "type": "pie"
           }
          ],
          "scatter": [
           {
            "marker": {
             "colorbar": {
              "outlinewidth": 0,
              "ticks": ""
             }
            },
            "type": "scatter"
           }
          ],
          "scatter3d": [
           {
            "line": {
             "colorbar": {
              "outlinewidth": 0,
              "ticks": ""
             }
            },
            "marker": {
             "colorbar": {
              "outlinewidth": 0,
              "ticks": ""
             }
            },
            "type": "scatter3d"
           }
          ],
          "scattercarpet": [
           {
            "marker": {
             "colorbar": {
              "outlinewidth": 0,
              "ticks": ""
             }
            },
            "type": "scattercarpet"
           }
          ],
          "scattergeo": [
           {
            "marker": {
             "colorbar": {
              "outlinewidth": 0,
              "ticks": ""
             }
            },
            "type": "scattergeo"
           }
          ],
          "scattergl": [
           {
            "marker": {
             "colorbar": {
              "outlinewidth": 0,
              "ticks": ""
             }
            },
            "type": "scattergl"
           }
          ],
          "scattermapbox": [
           {
            "marker": {
             "colorbar": {
              "outlinewidth": 0,
              "ticks": ""
             }
            },
            "type": "scattermapbox"
           }
          ],
          "scatterpolar": [
           {
            "marker": {
             "colorbar": {
              "outlinewidth": 0,
              "ticks": ""
             }
            },
            "type": "scatterpolar"
           }
          ],
          "scatterpolargl": [
           {
            "marker": {
             "colorbar": {
              "outlinewidth": 0,
              "ticks": ""
             }
            },
            "type": "scatterpolargl"
           }
          ],
          "scatterternary": [
           {
            "marker": {
             "colorbar": {
              "outlinewidth": 0,
              "ticks": ""
             }
            },
            "type": "scatterternary"
           }
          ],
          "surface": [
           {
            "colorbar": {
             "outlinewidth": 0,
             "ticks": ""
            },
            "colorscale": [
             [
              0,
              "#0d0887"
             ],
             [
              0.1111111111111111,
              "#46039f"
             ],
             [
              0.2222222222222222,
              "#7201a8"
             ],
             [
              0.3333333333333333,
              "#9c179e"
             ],
             [
              0.4444444444444444,
              "#bd3786"
             ],
             [
              0.5555555555555556,
              "#d8576b"
             ],
             [
              0.6666666666666666,
              "#ed7953"
             ],
             [
              0.7777777777777778,
              "#fb9f3a"
             ],
             [
              0.8888888888888888,
              "#fdca26"
             ],
             [
              1,
              "#f0f921"
             ]
            ],
            "type": "surface"
           }
          ],
          "table": [
           {
            "cells": {
             "fill": {
              "color": "#EBF0F8"
             },
             "line": {
              "color": "white"
             }
            },
            "header": {
             "fill": {
              "color": "#C8D4E3"
             },
             "line": {
              "color": "white"
             }
            },
            "type": "table"
           }
          ]
         },
         "layout": {
          "annotationdefaults": {
           "arrowcolor": "#2a3f5f",
           "arrowhead": 0,
           "arrowwidth": 1
          },
          "autotypenumbers": "strict",
          "coloraxis": {
           "colorbar": {
            "outlinewidth": 0,
            "ticks": ""
           }
          },
          "colorscale": {
           "diverging": [
            [
             0,
             "#8e0152"
            ],
            [
             0.1,
             "#c51b7d"
            ],
            [
             0.2,
             "#de77ae"
            ],
            [
             0.3,
             "#f1b6da"
            ],
            [
             0.4,
             "#fde0ef"
            ],
            [
             0.5,
             "#f7f7f7"
            ],
            [
             0.6,
             "#e6f5d0"
            ],
            [
             0.7,
             "#b8e186"
            ],
            [
             0.8,
             "#7fbc41"
            ],
            [
             0.9,
             "#4d9221"
            ],
            [
             1,
             "#276419"
            ]
           ],
           "sequential": [
            [
             0,
             "#0d0887"
            ],
            [
             0.1111111111111111,
             "#46039f"
            ],
            [
             0.2222222222222222,
             "#7201a8"
            ],
            [
             0.3333333333333333,
             "#9c179e"
            ],
            [
             0.4444444444444444,
             "#bd3786"
            ],
            [
             0.5555555555555556,
             "#d8576b"
            ],
            [
             0.6666666666666666,
             "#ed7953"
            ],
            [
             0.7777777777777778,
             "#fb9f3a"
            ],
            [
             0.8888888888888888,
             "#fdca26"
            ],
            [
             1,
             "#f0f921"
            ]
           ],
           "sequentialminus": [
            [
             0,
             "#0d0887"
            ],
            [
             0.1111111111111111,
             "#46039f"
            ],
            [
             0.2222222222222222,
             "#7201a8"
            ],
            [
             0.3333333333333333,
             "#9c179e"
            ],
            [
             0.4444444444444444,
             "#bd3786"
            ],
            [
             0.5555555555555556,
             "#d8576b"
            ],
            [
             0.6666666666666666,
             "#ed7953"
            ],
            [
             0.7777777777777778,
             "#fb9f3a"
            ],
            [
             0.8888888888888888,
             "#fdca26"
            ],
            [
             1,
             "#f0f921"
            ]
           ]
          },
          "colorway": [
           "#636efa",
           "#EF553B",
           "#00cc96",
           "#ab63fa",
           "#FFA15A",
           "#19d3f3",
           "#FF6692",
           "#B6E880",
           "#FF97FF",
           "#FECB52"
          ],
          "font": {
           "color": "#2a3f5f"
          },
          "geo": {
           "bgcolor": "white",
           "lakecolor": "white",
           "landcolor": "#E5ECF6",
           "showlakes": true,
           "showland": true,
           "subunitcolor": "white"
          },
          "hoverlabel": {
           "align": "left"
          },
          "hovermode": "closest",
          "mapbox": {
           "style": "light"
          },
          "paper_bgcolor": "white",
          "plot_bgcolor": "#E5ECF6",
          "polar": {
           "angularaxis": {
            "gridcolor": "white",
            "linecolor": "white",
            "ticks": ""
           },
           "bgcolor": "#E5ECF6",
           "radialaxis": {
            "gridcolor": "white",
            "linecolor": "white",
            "ticks": ""
           }
          },
          "scene": {
           "xaxis": {
            "backgroundcolor": "#E5ECF6",
            "gridcolor": "white",
            "gridwidth": 2,
            "linecolor": "white",
            "showbackground": true,
            "ticks": "",
            "zerolinecolor": "white"
           },
           "yaxis": {
            "backgroundcolor": "#E5ECF6",
            "gridcolor": "white",
            "gridwidth": 2,
            "linecolor": "white",
            "showbackground": true,
            "ticks": "",
            "zerolinecolor": "white"
           },
           "zaxis": {
            "backgroundcolor": "#E5ECF6",
            "gridcolor": "white",
            "gridwidth": 2,
            "linecolor": "white",
            "showbackground": true,
            "ticks": "",
            "zerolinecolor": "white"
           }
          },
          "shapedefaults": {
           "line": {
            "color": "#2a3f5f"
           }
          },
          "ternary": {
           "aaxis": {
            "gridcolor": "white",
            "linecolor": "white",
            "ticks": ""
           },
           "baxis": {
            "gridcolor": "white",
            "linecolor": "white",
            "ticks": ""
           },
           "bgcolor": "#E5ECF6",
           "caxis": {
            "gridcolor": "white",
            "linecolor": "white",
            "ticks": ""
           }
          },
          "title": {
           "x": 0.05
          },
          "xaxis": {
           "automargin": true,
           "gridcolor": "white",
           "linecolor": "white",
           "ticks": "",
           "title": {
            "standoff": 15
           },
           "zerolinecolor": "white",
           "zerolinewidth": 2
          },
          "yaxis": {
           "automargin": true,
           "gridcolor": "white",
           "linecolor": "white",
           "ticks": "",
           "title": {
            "standoff": 15
           },
           "zerolinecolor": "white",
           "zerolinewidth": 2
          }
         }
        },
        "title": {
         "text": "Countries with most movies"
        }
       }
      },
      "text/html": [
       "<div>                            <div id=\"31502364-4163-438e-b3bb-dde18c402702\" class=\"plotly-graph-div\" style=\"height:525px; width:100%;\"></div>            <script type=\"text/javascript\">                require([\"plotly\"], function(Plotly) {                    window.PLOTLYENV=window.PLOTLYENV || {};                                    if (document.getElementById(\"31502364-4163-438e-b3bb-dde18c402702\")) {                    Plotly.newPlot(                        \"31502364-4163-438e-b3bb-dde18c402702\",                        [{\"coloraxis\":\"coloraxis\",\"geo\":\"geo\",\"hovertemplate\":\"country=%{location}<br>movie_count=%{z}<extra></extra>\",\"locationmode\":\"country names\",\"locations\":[\"USA\",\"India\",\"UK\",\"Japan\",\"France\",\"Italy\",\"Canada\",\"Germany\",\"Turkey\",\"Hong Kong\"],\"name\":\"\",\"type\":\"choropleth\",\"z\":[28511,6065,4111,3077,3055,2444,1802,1396,1351,1239]}],                        {\"coloraxis\":{\"colorbar\":{\"title\":{\"text\":\"movie_count\"}},\"colorscale\":[[0.0,\"#0d0887\"],[0.1111111111111111,\"#46039f\"],[0.2222222222222222,\"#7201a8\"],[0.3333333333333333,\"#9c179e\"],[0.4444444444444444,\"#bd3786\"],[0.5555555555555556,\"#d8576b\"],[0.6666666666666666,\"#ed7953\"],[0.7777777777777778,\"#fb9f3a\"],[0.8888888888888888,\"#fdca26\"],[1.0,\"#f0f921\"]]},\"geo\":{\"center\":{},\"domain\":{\"x\":[0.0,1.0],\"y\":[0.0,1.0]}},\"legend\":{\"tracegroupgap\":0},\"template\":{\"data\":{\"bar\":[{\"error_x\":{\"color\":\"#2a3f5f\"},\"error_y\":{\"color\":\"#2a3f5f\"},\"marker\":{\"line\":{\"color\":\"#E5ECF6\",\"width\":0.5},\"pattern\":{\"fillmode\":\"overlay\",\"size\":10,\"solidity\":0.2}},\"type\":\"bar\"}],\"barpolar\":[{\"marker\":{\"line\":{\"color\":\"#E5ECF6\",\"width\":0.5},\"pattern\":{\"fillmode\":\"overlay\",\"size\":10,\"solidity\":0.2}},\"type\":\"barpolar\"}],\"carpet\":[{\"aaxis\":{\"endlinecolor\":\"#2a3f5f\",\"gridcolor\":\"white\",\"linecolor\":\"white\",\"minorgridcolor\":\"white\",\"startlinecolor\":\"#2a3f5f\"},\"baxis\":{\"endlinecolor\":\"#2a3f5f\",\"gridcolor\":\"white\",\"linecolor\":\"white\",\"minorgridcolor\":\"white\",\"startlinecolor\":\"#2a3f5f\"},\"type\":\"carpet\"}],\"choropleth\":[{\"colorbar\":{\"outlinewidth\":0,\"ticks\":\"\"},\"type\":\"choropleth\"}],\"contour\":[{\"colorbar\":{\"outlinewidth\":0,\"ticks\":\"\"},\"colorscale\":[[0.0,\"#0d0887\"],[0.1111111111111111,\"#46039f\"],[0.2222222222222222,\"#7201a8\"],[0.3333333333333333,\"#9c179e\"],[0.4444444444444444,\"#bd3786\"],[0.5555555555555556,\"#d8576b\"],[0.6666666666666666,\"#ed7953\"],[0.7777777777777778,\"#fb9f3a\"],[0.8888888888888888,\"#fdca26\"],[1.0,\"#f0f921\"]],\"type\":\"contour\"}],\"contourcarpet\":[{\"colorbar\":{\"outlinewidth\":0,\"ticks\":\"\"},\"type\":\"contourcarpet\"}],\"heatmap\":[{\"colorbar\":{\"outlinewidth\":0,\"ticks\":\"\"},\"colorscale\":[[0.0,\"#0d0887\"],[0.1111111111111111,\"#46039f\"],[0.2222222222222222,\"#7201a8\"],[0.3333333333333333,\"#9c179e\"],[0.4444444444444444,\"#bd3786\"],[0.5555555555555556,\"#d8576b\"],[0.6666666666666666,\"#ed7953\"],[0.7777777777777778,\"#fb9f3a\"],[0.8888888888888888,\"#fdca26\"],[1.0,\"#f0f921\"]],\"type\":\"heatmap\"}],\"heatmapgl\":[{\"colorbar\":{\"outlinewidth\":0,\"ticks\":\"\"},\"colorscale\":[[0.0,\"#0d0887\"],[0.1111111111111111,\"#46039f\"],[0.2222222222222222,\"#7201a8\"],[0.3333333333333333,\"#9c179e\"],[0.4444444444444444,\"#bd3786\"],[0.5555555555555556,\"#d8576b\"],[0.6666666666666666,\"#ed7953\"],[0.7777777777777778,\"#fb9f3a\"],[0.8888888888888888,\"#fdca26\"],[1.0,\"#f0f921\"]],\"type\":\"heatmapgl\"}],\"histogram\":[{\"marker\":{\"pattern\":{\"fillmode\":\"overlay\",\"size\":10,\"solidity\":0.2}},\"type\":\"histogram\"}],\"histogram2d\":[{\"colorbar\":{\"outlinewidth\":0,\"ticks\":\"\"},\"colorscale\":[[0.0,\"#0d0887\"],[0.1111111111111111,\"#46039f\"],[0.2222222222222222,\"#7201a8\"],[0.3333333333333333,\"#9c179e\"],[0.4444444444444444,\"#bd3786\"],[0.5555555555555556,\"#d8576b\"],[0.6666666666666666,\"#ed7953\"],[0.7777777777777778,\"#fb9f3a\"],[0.8888888888888888,\"#fdca26\"],[1.0,\"#f0f921\"]],\"type\":\"histogram2d\"}],\"histogram2dcontour\":[{\"colorbar\":{\"outlinewidth\":0,\"ticks\":\"\"},\"colorscale\":[[0.0,\"#0d0887\"],[0.1111111111111111,\"#46039f\"],[0.2222222222222222,\"#7201a8\"],[0.3333333333333333,\"#9c179e\"],[0.4444444444444444,\"#bd3786\"],[0.5555555555555556,\"#d8576b\"],[0.6666666666666666,\"#ed7953\"],[0.7777777777777778,\"#fb9f3a\"],[0.8888888888888888,\"#fdca26\"],[1.0,\"#f0f921\"]],\"type\":\"histogram2dcontour\"}],\"mesh3d\":[{\"colorbar\":{\"outlinewidth\":0,\"ticks\":\"\"},\"type\":\"mesh3d\"}],\"parcoords\":[{\"line\":{\"colorbar\":{\"outlinewidth\":0,\"ticks\":\"\"}},\"type\":\"parcoords\"}],\"pie\":[{\"automargin\":true,\"type\":\"pie\"}],\"scatter\":[{\"marker\":{\"colorbar\":{\"outlinewidth\":0,\"ticks\":\"\"}},\"type\":\"scatter\"}],\"scatter3d\":[{\"line\":{\"colorbar\":{\"outlinewidth\":0,\"ticks\":\"\"}},\"marker\":{\"colorbar\":{\"outlinewidth\":0,\"ticks\":\"\"}},\"type\":\"scatter3d\"}],\"scattercarpet\":[{\"marker\":{\"colorbar\":{\"outlinewidth\":0,\"ticks\":\"\"}},\"type\":\"scattercarpet\"}],\"scattergeo\":[{\"marker\":{\"colorbar\":{\"outlinewidth\":0,\"ticks\":\"\"}},\"type\":\"scattergeo\"}],\"scattergl\":[{\"marker\":{\"colorbar\":{\"outlinewidth\":0,\"ticks\":\"\"}},\"type\":\"scattergl\"}],\"scattermapbox\":[{\"marker\":{\"colorbar\":{\"outlinewidth\":0,\"ticks\":\"\"}},\"type\":\"scattermapbox\"}],\"scatterpolar\":[{\"marker\":{\"colorbar\":{\"outlinewidth\":0,\"ticks\":\"\"}},\"type\":\"scatterpolar\"}],\"scatterpolargl\":[{\"marker\":{\"colorbar\":{\"outlinewidth\":0,\"ticks\":\"\"}},\"type\":\"scatterpolargl\"}],\"scatterternary\":[{\"marker\":{\"colorbar\":{\"outlinewidth\":0,\"ticks\":\"\"}},\"type\":\"scatterternary\"}],\"surface\":[{\"colorbar\":{\"outlinewidth\":0,\"ticks\":\"\"},\"colorscale\":[[0.0,\"#0d0887\"],[0.1111111111111111,\"#46039f\"],[0.2222222222222222,\"#7201a8\"],[0.3333333333333333,\"#9c179e\"],[0.4444444444444444,\"#bd3786\"],[0.5555555555555556,\"#d8576b\"],[0.6666666666666666,\"#ed7953\"],[0.7777777777777778,\"#fb9f3a\"],[0.8888888888888888,\"#fdca26\"],[1.0,\"#f0f921\"]],\"type\":\"surface\"}],\"table\":[{\"cells\":{\"fill\":{\"color\":\"#EBF0F8\"},\"line\":{\"color\":\"white\"}},\"header\":{\"fill\":{\"color\":\"#C8D4E3\"},\"line\":{\"color\":\"white\"}},\"type\":\"table\"}]},\"layout\":{\"annotationdefaults\":{\"arrowcolor\":\"#2a3f5f\",\"arrowhead\":0,\"arrowwidth\":1},\"autotypenumbers\":\"strict\",\"coloraxis\":{\"colorbar\":{\"outlinewidth\":0,\"ticks\":\"\"}},\"colorscale\":{\"diverging\":[[0,\"#8e0152\"],[0.1,\"#c51b7d\"],[0.2,\"#de77ae\"],[0.3,\"#f1b6da\"],[0.4,\"#fde0ef\"],[0.5,\"#f7f7f7\"],[0.6,\"#e6f5d0\"],[0.7,\"#b8e186\"],[0.8,\"#7fbc41\"],[0.9,\"#4d9221\"],[1,\"#276419\"]],\"sequential\":[[0.0,\"#0d0887\"],[0.1111111111111111,\"#46039f\"],[0.2222222222222222,\"#7201a8\"],[0.3333333333333333,\"#9c179e\"],[0.4444444444444444,\"#bd3786\"],[0.5555555555555556,\"#d8576b\"],[0.6666666666666666,\"#ed7953\"],[0.7777777777777778,\"#fb9f3a\"],[0.8888888888888888,\"#fdca26\"],[1.0,\"#f0f921\"]],\"sequentialminus\":[[0.0,\"#0d0887\"],[0.1111111111111111,\"#46039f\"],[0.2222222222222222,\"#7201a8\"],[0.3333333333333333,\"#9c179e\"],[0.4444444444444444,\"#bd3786\"],[0.5555555555555556,\"#d8576b\"],[0.6666666666666666,\"#ed7953\"],[0.7777777777777778,\"#fb9f3a\"],[0.8888888888888888,\"#fdca26\"],[1.0,\"#f0f921\"]]},\"colorway\":[\"#636efa\",\"#EF553B\",\"#00cc96\",\"#ab63fa\",\"#FFA15A\",\"#19d3f3\",\"#FF6692\",\"#B6E880\",\"#FF97FF\",\"#FECB52\"],\"font\":{\"color\":\"#2a3f5f\"},\"geo\":{\"bgcolor\":\"white\",\"lakecolor\":\"white\",\"landcolor\":\"#E5ECF6\",\"showlakes\":true,\"showland\":true,\"subunitcolor\":\"white\"},\"hoverlabel\":{\"align\":\"left\"},\"hovermode\":\"closest\",\"mapbox\":{\"style\":\"light\"},\"paper_bgcolor\":\"white\",\"plot_bgcolor\":\"#E5ECF6\",\"polar\":{\"angularaxis\":{\"gridcolor\":\"white\",\"linecolor\":\"white\",\"ticks\":\"\"},\"bgcolor\":\"#E5ECF6\",\"radialaxis\":{\"gridcolor\":\"white\",\"linecolor\":\"white\",\"ticks\":\"\"}},\"scene\":{\"xaxis\":{\"backgroundcolor\":\"#E5ECF6\",\"gridcolor\":\"white\",\"gridwidth\":2,\"linecolor\":\"white\",\"showbackground\":true,\"ticks\":\"\",\"zerolinecolor\":\"white\"},\"yaxis\":{\"backgroundcolor\":\"#E5ECF6\",\"gridcolor\":\"white\",\"gridwidth\":2,\"linecolor\":\"white\",\"showbackground\":true,\"ticks\":\"\",\"zerolinecolor\":\"white\"},\"zaxis\":{\"backgroundcolor\":\"#E5ECF6\",\"gridcolor\":\"white\",\"gridwidth\":2,\"linecolor\":\"white\",\"showbackground\":true,\"ticks\":\"\",\"zerolinecolor\":\"white\"}},\"shapedefaults\":{\"line\":{\"color\":\"#2a3f5f\"}},\"ternary\":{\"aaxis\":{\"gridcolor\":\"white\",\"linecolor\":\"white\",\"ticks\":\"\"},\"baxis\":{\"gridcolor\":\"white\",\"linecolor\":\"white\",\"ticks\":\"\"},\"bgcolor\":\"#E5ECF6\",\"caxis\":{\"gridcolor\":\"white\",\"linecolor\":\"white\",\"ticks\":\"\"}},\"title\":{\"x\":0.05},\"xaxis\":{\"automargin\":true,\"gridcolor\":\"white\",\"linecolor\":\"white\",\"ticks\":\"\",\"title\":{\"standoff\":15},\"zerolinecolor\":\"white\",\"zerolinewidth\":2},\"yaxis\":{\"automargin\":true,\"gridcolor\":\"white\",\"linecolor\":\"white\",\"ticks\":\"\",\"title\":{\"standoff\":15},\"zerolinecolor\":\"white\",\"zerolinewidth\":2}}},\"title\":{\"text\":\"Countries with most movies\"}},                        {\"responsive\": true}                    ).then(function(){\n",
       "                            \n",
       "var gd = document.getElementById('31502364-4163-438e-b3bb-dde18c402702');\n",
       "var x = new MutationObserver(function (mutations, observer) {{\n",
       "        var display = window.getComputedStyle(gd).display;\n",
       "        if (!display || display === 'none') {{\n",
       "            console.log([gd, 'removed!']);\n",
       "            Plotly.purge(gd);\n",
       "            observer.disconnect();\n",
       "        }}\n",
       "}});\n",
       "\n",
       "// Listen for the removal of the full notebook cells\n",
       "var notebookContainer = gd.closest('#notebook-container');\n",
       "if (notebookContainer) {{\n",
       "    x.observe(notebookContainer, {childList: true});\n",
       "}}\n",
       "\n",
       "// Listen for the clearing of the current output cell\n",
       "var outputEl = gd.closest('.output');\n",
       "if (outputEl) {{\n",
       "    x.observe(outputEl, {childList: true});\n",
       "}}\n",
       "\n",
       "                        })                };                });            </script>        </div>"
      ]
     },
     "metadata": {},
     "output_type": "display_data"
    }
   ],
   "source": [
    "dfg =  pd.read_sql_query('''SELECT country, count(imdb_title_id) as movie_count FROM IMDB_MOVIES GROUP BY Country ORDER BY movie_count Desc LIMIT 10''',conn)\n",
    "display(dfg)\n",
    "fig = px.choropleth(dfg, locations=\"country\",\n",
    "                    color=\"movie_count\", \n",
    "                    locationmode='country names',\n",
    "                    title='Countries with most movies',\n",
    "                    color_continuous_scale=px.colors.sequential.Plasma)\n",
    "fig.show()"
   ]
  },
  {
   "cell_type": "code",
   "execution_count": 24,
   "metadata": {
    "execution": {
     "iopub.execute_input": "2021-12-12T13:22:20.137407Z",
     "iopub.status.busy": "2021-12-12T13:22:20.137196Z",
     "iopub.status.idle": "2021-12-12T13:22:20.141896Z",
     "shell.execute_reply": "2021-12-12T13:22:20.140700Z",
     "shell.execute_reply.started": "2021-12-12T13:22:20.137381Z"
    }
   },
   "outputs": [],
   "source": [
    "#pip install sklearn"
   ]
  },
  {
   "cell_type": "code",
   "execution_count": null,
   "metadata": {},
   "outputs": [],
   "source": []
  },
  {
   "cell_type": "code",
   "execution_count": 25,
   "metadata": {
    "execution": {
     "iopub.execute_input": "2021-12-12T13:25:48.139188Z",
     "iopub.status.busy": "2021-12-12T13:25:48.138840Z",
     "iopub.status.idle": "2021-12-12T13:25:48.147333Z",
     "shell.execute_reply": "2021-12-12T13:25:48.146297Z",
     "shell.execute_reply.started": "2021-12-12T13:25:48.139151Z"
    }
   },
   "outputs": [],
   "source": [
    "import numpy as np\n",
    "import pandas as pd\n",
    "pd.options.mode.chained_assignment = None\n",
    "import matplotlib.pyplot as plt\n",
    "import seaborn as sns\n",
    "sns.set(style='whitegrid')\n",
    "#from currency_converter import CurrencyConverter\n",
    "import datetime\n",
    "#from wordcloud import WordCloud, STOPWORDS \n",
    "import textwrap\n",
    "import string\n",
    "from nltk.corpus import stopwords\n",
    "from nltk.stem import PorterStemmer \n",
    "from sklearn.metrics.pairwise import cosine_similarity\n",
    "from sklearn.feature_extraction.text import CountVectorizer"
   ]
  },
  {
   "cell_type": "code",
   "execution_count": 26,
   "metadata": {
    "execution": {
     "iopub.execute_input": "2021-12-12T13:39:27.992389Z",
     "iopub.status.busy": "2021-12-12T13:39:27.991962Z",
     "iopub.status.idle": "2021-12-12T13:39:28.130764Z",
     "shell.execute_reply": "2021-12-12T13:39:28.130081Z",
     "shell.execute_reply.started": "2021-12-12T13:39:27.992358Z"
    }
   },
   "outputs": [
    {
     "data": {
      "text/html": [
       "<div>\n",
       "<style scoped>\n",
       "    .dataframe tbody tr th:only-of-type {\n",
       "        vertical-align: middle;\n",
       "    }\n",
       "\n",
       "    .dataframe tbody tr th {\n",
       "        vertical-align: top;\n",
       "    }\n",
       "\n",
       "    .dataframe thead th {\n",
       "        text-align: right;\n",
       "    }\n",
       "</style>\n",
       "<table border=\"1\" class=\"dataframe\">\n",
       "  <thead>\n",
       "    <tr style=\"text-align: right;\">\n",
       "      <th></th>\n",
       "      <th>title</th>\n",
       "      <th>genre</th>\n",
       "      <th>director</th>\n",
       "      <th>actors</th>\n",
       "      <th>description</th>\n",
       "    </tr>\n",
       "  </thead>\n",
       "  <tbody>\n",
       "    <tr>\n",
       "      <th>0</th>\n",
       "      <td>Foodfight!</td>\n",
       "      <td>Animation, Action, Adventure</td>\n",
       "      <td>Lawrence Kasanoff</td>\n",
       "      <td>Charlie Sheen, Hilary Duff, Eva Longoria, Wayn...</td>\n",
       "      <td>The evil Brand X joins a supermarket that beco...</td>\n",
       "    </tr>\n",
       "    <tr>\n",
       "      <th>1</th>\n",
       "      <td>Return to Babylon</td>\n",
       "      <td>Biography, Comedy, Drama</td>\n",
       "      <td>Alex Monty Canawati</td>\n",
       "      <td>Jennifer Tilly, Maria Conchita Alonso, Tippi H...</td>\n",
       "      <td>The scandals and decadent lives of the 1920's ...</td>\n",
       "    </tr>\n",
       "    <tr>\n",
       "      <th>2</th>\n",
       "      <td>Life's a Beach</td>\n",
       "      <td>Comedy</td>\n",
       "      <td>Tony Vitale</td>\n",
       "      <td>Darren Geare, R.J. Knoll, Christopher Walken, ...</td>\n",
       "      <td>Darren Fields (Darren Geare) gets stood up on ...</td>\n",
       "    </tr>\n",
       "    <tr>\n",
       "      <th>3</th>\n",
       "      <td>'77</td>\n",
       "      <td>Comedy, Drama</td>\n",
       "      <td>Patrick Read Johnson</td>\n",
       "      <td>John Francis Daley, Austin Pendleton, Colleen ...</td>\n",
       "      <td>Alienated, hopeful-filmmaker Pat Johnson's epi...</td>\n",
       "    </tr>\n",
       "    <tr>\n",
       "      <th>4</th>\n",
       "      <td>The Evil Within</td>\n",
       "      <td>Horror</td>\n",
       "      <td>Andrew Getty</td>\n",
       "      <td>Sean Patrick Flanery, Dina Meyer, Frederick Ko...</td>\n",
       "      <td>The sadistic tale of a lonely, mentally handic...</td>\n",
       "    </tr>\n",
       "  </tbody>\n",
       "</table>\n",
       "</div>"
      ],
      "text/plain": [
       "               title                         genre              director  \\\n",
       "0         Foodfight!  Animation, Action, Adventure     Lawrence Kasanoff   \n",
       "1  Return to Babylon      Biography, Comedy, Drama   Alex Monty Canawati   \n",
       "2     Life's a Beach                        Comedy           Tony Vitale   \n",
       "3                '77                 Comedy, Drama  Patrick Read Johnson   \n",
       "4    The Evil Within                        Horror          Andrew Getty   \n",
       "\n",
       "                                              actors  \\\n",
       "0  Charlie Sheen, Hilary Duff, Eva Longoria, Wayn...   \n",
       "1  Jennifer Tilly, Maria Conchita Alonso, Tippi H...   \n",
       "2  Darren Geare, R.J. Knoll, Christopher Walken, ...   \n",
       "3  John Francis Daley, Austin Pendleton, Colleen ...   \n",
       "4  Sean Patrick Flanery, Dina Meyer, Frederick Ko...   \n",
       "\n",
       "                                         description  \n",
       "0  The evil Brand X joins a supermarket that beco...  \n",
       "1  The scandals and decadent lives of the 1920's ...  \n",
       "2  Darren Fields (Darren Geare) gets stood up on ...  \n",
       "3  Alienated, hopeful-filmmaker Pat Johnson's epi...  \n",
       "4  The sadistic tale of a lonely, mentally handic...  "
      ]
     },
     "execution_count": 26,
     "metadata": {},
     "output_type": "execute_result"
    }
   ],
   "source": [
    "data_recsys = pd.read_sql_query(''' select distinct title, genre, director, actors, description from imdb_movies where country = 'USA' and year > 2010 ''',conn)\n",
    "data_recsys.head()"
   ]
  },
  {
   "cell_type": "code",
   "execution_count": 27,
   "metadata": {
    "execution": {
     "iopub.execute_input": "2021-12-12T13:39:28.132596Z",
     "iopub.status.busy": "2021-12-12T13:39:28.132188Z",
     "iopub.status.idle": "2021-12-12T13:39:28.197905Z",
     "shell.execute_reply": "2021-12-12T13:39:28.196983Z",
     "shell.execute_reply.started": "2021-12-12T13:39:28.132533Z"
    }
   },
   "outputs": [],
   "source": [
    "data_recsys.set_index('title', inplace = True)\n",
    "\n",
    "data_recsys['genre'] = data_recsys['genre'].fillna('').astype('str').str.lower()\n",
    "data_recsys['genre'] = data_recsys['genre'].str.split(',')\n",
    "\n",
    "data_recsys['director'] = data_recsys['director'].fillna('').astype('str').str.lower()\n",
    "data_recsys['director'] = data_recsys['director'].str.split(',')\n",
    "\n",
    "data_recsys['actors'] = data_recsys['actors'].fillna('').astype('str').str.lower()\n",
    "data_recsys['actors'] = data_recsys['actors'].str.split(',')"
   ]
  },
  {
   "cell_type": "code",
   "execution_count": 28,
   "metadata": {
    "execution": {
     "iopub.execute_input": "2021-12-12T13:39:28.202416Z",
     "iopub.status.busy": "2021-12-12T13:39:28.202105Z",
     "iopub.status.idle": "2021-12-12T13:39:38.054065Z",
     "shell.execute_reply": "2021-12-12T13:39:38.053074Z",
     "shell.execute_reply.started": "2021-12-12T13:39:28.202347Z"
    }
   },
   "outputs": [],
   "source": [
    "data_recsys['description'] = data_recsys['description'].fillna('').astype('str').str.lower()\n",
    "data_recsys['description'] = data_recsys['description'].str.translate(str.maketrans('', '', string.punctuation))\n",
    "\n",
    "from nltk.corpus import stopwords\n",
    "import nltk as nltk\n",
    "#nltk.download('stopwords')\n",
    "listStopwords = set(stopwords.words('english'))\n",
    "filtered = []\n",
    "ps = PorterStemmer() \n",
    "for i, text in enumerate(data_recsys['description'].str.split()):\n",
    "    for word in text:\n",
    "        # Filtering/Removing stopwords in the text\n",
    "        if word not in listStopwords:\n",
    "            # Stemming words\n",
    "            word_stemmed = ps.stem(word)\n",
    "            filtered.append(word_stemmed)\n",
    "    data_recsys['description'][i] = filtered\n",
    "    filtered = []"
   ]
  },
  {
   "cell_type": "code",
   "execution_count": 29,
   "metadata": {
    "execution": {
     "iopub.execute_input": "2021-12-12T13:39:38.056252Z",
     "iopub.status.busy": "2021-12-12T13:39:38.056027Z",
     "iopub.status.idle": "2021-12-12T13:39:42.367224Z",
     "shell.execute_reply": "2021-12-12T13:39:42.366249Z",
     "shell.execute_reply.started": "2021-12-12T13:39:38.056224Z"
    }
   },
   "outputs": [],
   "source": [
    "data_recsys['bunch_of_words'] = ''\n",
    "for i, text in data_recsys.iterrows():\n",
    "    words = ''\n",
    "    for col in data_recsys.columns:\n",
    "        words = words + ' '.join(text[col]) + ' '\n",
    "    data_recsys['bunch_of_words'][i] = words"
   ]
  },
  {
   "cell_type": "code",
   "execution_count": 30,
   "metadata": {
    "execution": {
     "iopub.execute_input": "2021-12-12T13:39:42.368458Z",
     "iopub.status.busy": "2021-12-12T13:39:42.368241Z",
     "iopub.status.idle": "2021-12-12T13:39:42.399700Z",
     "shell.execute_reply": "2021-12-12T13:39:42.398859Z",
     "shell.execute_reply.started": "2021-12-12T13:39:42.368431Z"
    }
   },
   "outputs": [
    {
     "data": {
      "text/html": [
       "<div>\n",
       "<style scoped>\n",
       "    .dataframe tbody tr th:only-of-type {\n",
       "        vertical-align: middle;\n",
       "    }\n",
       "\n",
       "    .dataframe tbody tr th {\n",
       "        vertical-align: top;\n",
       "    }\n",
       "\n",
       "    .dataframe thead th {\n",
       "        text-align: right;\n",
       "    }\n",
       "</style>\n",
       "<table border=\"1\" class=\"dataframe\">\n",
       "  <thead>\n",
       "    <tr style=\"text-align: right;\">\n",
       "      <th></th>\n",
       "      <th>genre</th>\n",
       "      <th>director</th>\n",
       "      <th>actors</th>\n",
       "      <th>description</th>\n",
       "      <th>bunch_of_words</th>\n",
       "    </tr>\n",
       "    <tr>\n",
       "      <th>title</th>\n",
       "      <th></th>\n",
       "      <th></th>\n",
       "      <th></th>\n",
       "      <th></th>\n",
       "      <th></th>\n",
       "    </tr>\n",
       "  </thead>\n",
       "  <tbody>\n",
       "    <tr>\n",
       "      <th>Foodfight!</th>\n",
       "      <td>[animation,  action,  adventure]</td>\n",
       "      <td>[lawrence kasanoff]</td>\n",
       "      <td>[charlie sheen,  hilary duff,  eva longoria,  ...</td>\n",
       "      <td>[evil, brand, x, join, supermarket, becom, cit...</td>\n",
       "      <td>animation  action  adventure lawrence kasanoff...</td>\n",
       "    </tr>\n",
       "    <tr>\n",
       "      <th>Return to Babylon</th>\n",
       "      <td>[biography,  comedy,  drama]</td>\n",
       "      <td>[alex monty canawati]</td>\n",
       "      <td>[jennifer tilly,  maria conchita alonso,  tipp...</td>\n",
       "      <td>[scandal, decad, live, 1920, greatest, movi, s...</td>\n",
       "      <td>biography  comedy  drama alex monty canawati j...</td>\n",
       "    </tr>\n",
       "    <tr>\n",
       "      <th>Life's a Beach</th>\n",
       "      <td>[comedy]</td>\n",
       "      <td>[tony vitale]</td>\n",
       "      <td>[darren geare,  r.j. knoll,  christopher walke...</td>\n",
       "      <td>[darren, field, darren, gear, get, stood, day,...</td>\n",
       "      <td>comedy tony vitale darren geare  r.j. knoll  c...</td>\n",
       "    </tr>\n",
       "    <tr>\n",
       "      <th>'77</th>\n",
       "      <td>[comedy,  drama]</td>\n",
       "      <td>[patrick read johnson]</td>\n",
       "      <td>[john francis daley,  austin pendleton,  colle...</td>\n",
       "      <td>[alien, hopefulfilmmak, pat, johnson, epic, st...</td>\n",
       "      <td>comedy  drama patrick read johnson john franci...</td>\n",
       "    </tr>\n",
       "    <tr>\n",
       "      <th>The Evil Within</th>\n",
       "      <td>[horror]</td>\n",
       "      <td>[andrew getty]</td>\n",
       "      <td>[sean patrick flanery,  dina meyer,  frederick...</td>\n",
       "      <td>[sadist, tale, lone, mental, handicap, boy, be...</td>\n",
       "      <td>horror andrew getty sean patrick flanery  dina...</td>\n",
       "    </tr>\n",
       "  </tbody>\n",
       "</table>\n",
       "</div>"
      ],
      "text/plain": [
       "                                              genre                director  \\\n",
       "title                                                                         \n",
       "Foodfight!         [animation,  action,  adventure]     [lawrence kasanoff]   \n",
       "Return to Babylon      [biography,  comedy,  drama]   [alex monty canawati]   \n",
       "Life's a Beach                             [comedy]           [tony vitale]   \n",
       "'77                                [comedy,  drama]  [patrick read johnson]   \n",
       "The Evil Within                            [horror]          [andrew getty]   \n",
       "\n",
       "                                                              actors  \\\n",
       "title                                                                  \n",
       "Foodfight!         [charlie sheen,  hilary duff,  eva longoria,  ...   \n",
       "Return to Babylon  [jennifer tilly,  maria conchita alonso,  tipp...   \n",
       "Life's a Beach     [darren geare,  r.j. knoll,  christopher walke...   \n",
       "'77                [john francis daley,  austin pendleton,  colle...   \n",
       "The Evil Within    [sean patrick flanery,  dina meyer,  frederick...   \n",
       "\n",
       "                                                         description  \\\n",
       "title                                                                  \n",
       "Foodfight!         [evil, brand, x, join, supermarket, becom, cit...   \n",
       "Return to Babylon  [scandal, decad, live, 1920, greatest, movi, s...   \n",
       "Life's a Beach     [darren, field, darren, gear, get, stood, day,...   \n",
       "'77                [alien, hopefulfilmmak, pat, johnson, epic, st...   \n",
       "The Evil Within    [sadist, tale, lone, mental, handicap, boy, be...   \n",
       "\n",
       "                                                      bunch_of_words  \n",
       "title                                                                 \n",
       "Foodfight!         animation  action  adventure lawrence kasanoff...  \n",
       "Return to Babylon  biography  comedy  drama alex monty canawati j...  \n",
       "Life's a Beach     comedy tony vitale darren geare  r.j. knoll  c...  \n",
       "'77                comedy  drama patrick read johnson john franci...  \n",
       "The Evil Within    horror andrew getty sean patrick flanery  dina...  "
      ]
     },
     "execution_count": 30,
     "metadata": {},
     "output_type": "execute_result"
    }
   ],
   "source": [
    "data_recsys.head()"
   ]
  },
  {
   "cell_type": "code",
   "execution_count": 31,
   "metadata": {
    "execution": {
     "iopub.execute_input": "2021-12-12T13:39:42.402031Z",
     "iopub.status.busy": "2021-12-12T13:39:42.401433Z",
     "iopub.status.idle": "2021-12-12T13:39:43.177272Z",
     "shell.execute_reply": "2021-12-12T13:39:43.176305Z",
     "shell.execute_reply.started": "2021-12-12T13:39:42.401987Z"
    }
   },
   "outputs": [],
   "source": [
    "count = CountVectorizer()\n",
    "count_matrix = count.fit_transform(data_recsys['bunch_of_words']).astype(np.uint8)"
   ]
  },
  {
   "cell_type": "code",
   "execution_count": 32,
   "metadata": {
    "execution": {
     "iopub.execute_input": "2021-12-12T13:39:43.179014Z",
     "iopub.status.busy": "2021-12-12T13:39:43.178662Z",
     "iopub.status.idle": "2021-12-12T13:39:46.470418Z",
     "shell.execute_reply": "2021-12-12T13:39:46.469739Z",
     "shell.execute_reply.started": "2021-12-12T13:39:43.178968Z"
    }
   },
   "outputs": [],
   "source": [
    "# Calculate Cosine Similarity\n",
    "# Cosine similarity is a metric used to measure how similar the documents are irrespective of their size\n",
    "\n",
    "chunk_size = 500 \n",
    "matrix_len = count_matrix.shape[0] # Not sparse numpy.ndarray\n",
    "\n",
    "# Calculate cosine similarity chunk by chunk\n",
    "def similarity_cosine_by_chunk(start, end):\n",
    "    if end > matrix_len:\n",
    "        end = matrix_len\n",
    "    return cosine_similarity(X=count_matrix[start:end], Y=count_matrix)\n",
    "cosine_similarity_all = []\n",
    "i=0\n",
    "for chunk_start in range(0, matrix_len, chunk_size):\n",
    "    \n",
    "    # Initialize first cosine sim chunk (for first concatenating chunks purpose)\n",
    "    if i == 0: \n",
    "        cosine_sim = similarity_cosine_by_chunk(chunk_start, chunk_start+chunk_size)\n",
    "    \n",
    "    # Initialize other cosine sim chunk, then concatenating chunk by chunk untill all chunks concatenated\n",
    "    else :\n",
    "        cosine_similarity_chunk= similarity_cosine_by_chunk(chunk_start, chunk_start+chunk_size)\n",
    "        # Use type data float32 for reduce memory usage\n",
    "        cosine_sim = np.concatenate((cosine_sim.astype(np.float32), cosine_similarity_chunk.astype(np.float32)))\n",
    "    \n",
    "    # Change value i != 0 for execute else statement, because we dont need execute if statement anymore (if statement only to initialize first chunk for first concatenating purpose)\n",
    "    i= 1"
   ]
  },
  {
   "cell_type": "code",
   "execution_count": 33,
   "metadata": {
    "execution": {
     "iopub.execute_input": "2021-12-12T13:39:46.471974Z",
     "iopub.status.busy": "2021-12-12T13:39:46.471695Z",
     "iopub.status.idle": "2021-12-12T13:39:46.480872Z",
     "shell.execute_reply": "2021-12-12T13:39:46.479642Z",
     "shell.execute_reply.started": "2021-12-12T13:39:46.471940Z"
    }
   },
   "outputs": [],
   "source": [
    "# Create function that return 10 recommended/similar movies based on input\n",
    "\n",
    "# Create variable index\n",
    "index_movies = pd.Series(data_recsys.index)\n",
    "\n",
    "# Movies Recommendation function\n",
    "def recommendation_movies(title, cosine_sim = cosine_sim):\n",
    "    recommended_movies = []\n",
    "    index_movie_input = index_movies[index_movies == title].index[0]\n",
    "    score_movies = pd.Series(cosine_sim[index_movie_input]).sort_values(ascending = False)\n",
    "    top_10_index_movies = list(score_moviesvies.iloc[1:11].index)\n",
    "    # Get movies title and year by index (top 10 movies)\n",
    "    for i in top_10_index_movies:\n",
    "        recommended_movies.append(df_movies['original_title'].iloc[i] + ' (' + str(df_movies['year'].iloc[i]) + ')')\n",
    "    return recommended_movies"
   ]
  },
  {
   "cell_type": "code",
   "execution_count": 34,
   "metadata": {
    "execution": {
     "iopub.execute_input": "2021-12-12T13:40:22.556614Z",
     "iopub.status.busy": "2021-12-12T13:40:22.556152Z",
     "iopub.status.idle": "2021-12-12T13:40:22.566354Z",
     "shell.execute_reply": "2021-12-12T13:40:22.565568Z",
     "shell.execute_reply.started": "2021-12-12T13:40:22.556570Z"
    }
   },
   "outputs": [
    {
     "data": {
      "text/plain": [
       "['Lumberjack (1944)',\n",
       " 'Blondie Goes to College (1942)',\n",
       " 'Shukujo wa nani o wasureta ka (1937)',\n",
       " 'Judex (1916)',\n",
       " \"Charlie Chan's Greatest Case (1933)\",\n",
       " 'Cairo (1942)',\n",
       " 'Golgotha (1935)',\n",
       " '20,000 Leagues Under the Sea (1916)',\n",
       " 'Soul-Fire (1925)',\n",
       " 'College Holiday (1936)']"
      ]
     },
     "execution_count": 34,
     "metadata": {},
     "output_type": "execute_result"
    }
   ],
   "source": [
    "# Results\n",
    "recommendation_movies('Avengers: Infinity War')"
   ]
  },
  {
   "cell_type": "code",
   "execution_count": 35,
   "metadata": {
    "execution": {
     "iopub.execute_input": "2021-12-12T13:41:03.785597Z",
     "iopub.status.busy": "2021-12-12T13:41:03.785146Z",
     "iopub.status.idle": "2021-12-12T13:41:03.795241Z",
     "shell.execute_reply": "2021-12-12T13:41:03.794281Z",
     "shell.execute_reply.started": "2021-12-12T13:41:03.785563Z"
    }
   },
   "outputs": [
    {
     "data": {
      "text/plain": [
       "['Stage Struck (1936)',\n",
       " 'Die Abenteuer des Prinzen Achmed (1926)',\n",
       " 'The Milkman (1950)',\n",
       " 'Dangerous Money (1946)',\n",
       " 'Kolberg (1945)',\n",
       " 'This Is My Affair (1937)',\n",
       " 'Outward Bound (1930)',\n",
       " 'The Public Defender (1931)',\n",
       " 'The Mystery of Mr. Wong (1939)',\n",
       " 'Way Back Home (1931)']"
      ]
     },
     "execution_count": 35,
     "metadata": {},
     "output_type": "execute_result"
    }
   ],
   "source": [
    "# Results\n",
    "recommendation_movies('21 Jump Street')"
   ]
  },
  {
   "cell_type": "code",
   "execution_count": 36,
   "metadata": {
    "execution": {
     "iopub.execute_input": "2021-12-12T13:41:07.722886Z",
     "iopub.status.busy": "2021-12-12T13:41:07.722617Z",
     "iopub.status.idle": "2021-12-12T13:41:07.731537Z",
     "shell.execute_reply": "2021-12-12T13:41:07.730719Z",
     "shell.execute_reply.started": "2021-12-12T13:41:07.722859Z"
    }
   },
   "outputs": [
    {
     "data": {
      "text/plain": [
       "[\"You're in the Army Now (1941)\",\n",
       " 'Totò e le donne (1952)',\n",
       " 'Off the Record (1939)',\n",
       " 'This Is My Affair (1937)',\n",
       " 'Passage West (1951)',\n",
       " 'Miss Polly (1941)',\n",
       " 'Sciuscià (1946)',\n",
       " 'Rendez-vous de juillet (1949)',\n",
       " 'The Big Stampede (1932)',\n",
       " 'The Galloping Ghost (1931)']"
      ]
     },
     "execution_count": 36,
     "metadata": {},
     "output_type": "execute_result"
    }
   ],
   "source": [
    "# Results\n",
    "recommendation_movies('Minions')"
   ]
  },
  {
   "cell_type": "code",
   "execution_count": 37,
   "metadata": {
    "execution": {
     "iopub.execute_input": "2021-12-12T13:41:11.320007Z",
     "iopub.status.busy": "2021-12-12T13:41:11.319725Z",
     "iopub.status.idle": "2021-12-12T13:41:11.331721Z",
     "shell.execute_reply": "2021-12-12T13:41:11.330820Z",
     "shell.execute_reply.started": "2021-12-12T13:41:11.319979Z"
    }
   },
   "outputs": [
    {
     "data": {
      "text/plain": [
       "['Asu o tsukuru hitobito (1946)',\n",
       " 'Invisible Ghost (1941)',\n",
       " 'Le roman de Renard (1937)',\n",
       " 'That Gang of Mine (1940)',\n",
       " \"Dick Tracy's G-Men (1939)\",\n",
       " 'The Show-Off (1946)',\n",
       " 'The Dark Eyes of London (1939)',\n",
       " \"When's Your Birthday? (1937)\",\n",
       " 'Rocket Ship (1936)',\n",
       " 'Blondie in the Dough (1947)']"
      ]
     },
     "execution_count": 37,
     "metadata": {},
     "output_type": "execute_result"
    }
   ],
   "source": [
    "# Results\n",
    "recommendation_movies('Annabelle')"
   ]
  },
  {
   "cell_type": "code",
   "execution_count": 38,
   "metadata": {
    "execution": {
     "iopub.execute_input": "2021-12-12T13:41:42.933756Z",
     "iopub.status.busy": "2021-12-12T13:41:42.933263Z",
     "iopub.status.idle": "2021-12-12T13:41:42.942888Z",
     "shell.execute_reply": "2021-12-12T13:41:42.942065Z",
     "shell.execute_reply.started": "2021-12-12T13:41:42.933723Z"
    }
   },
   "outputs": [
    {
     "data": {
      "text/plain": [
       "['Week-End in Havana (1941)',\n",
       " 'Angel on My Shoulder (1946)',\n",
       " 'The Affairs of Annabel (1938)',\n",
       " 'Young Bill Hickok (1940)',\n",
       " 'Terje Vigen (1917)',\n",
       " 'Romeo und Julia im Schnee (1920)',\n",
       " 'Wait Till the Sun Shines, Nellie (1952)',\n",
       " 'Torrid Zone (1940)',\n",
       " 'Mrs. Parkington (1944)',\n",
       " 'Lady Be Good (1941)']"
      ]
     },
     "execution_count": 38,
     "metadata": {},
     "output_type": "execute_result"
    }
   ],
   "source": [
    "# Results\n",
    "recommendation_movies('Django Unchained')"
   ]
  },
  {
   "cell_type": "code",
   "execution_count": null,
   "metadata": {},
   "outputs": [],
   "source": []
  }
 ],
 "metadata": {
  "kernelspec": {
   "display_name": "Python 3",
   "language": "python",
   "name": "python3"
  },
  "language_info": {
   "codemirror_mode": {
    "name": "ipython",
    "version": 3
   },
   "file_extension": ".py",
   "mimetype": "text/x-python",
   "name": "python",
   "nbconvert_exporter": "python",
   "pygments_lexer": "ipython3",
   "version": "3.8.8"
  }
 },
 "nbformat": 4,
 "nbformat_minor": 4
}
